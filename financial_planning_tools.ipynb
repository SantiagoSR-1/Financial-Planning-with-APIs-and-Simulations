{
 "cells": [
  {
   "cell_type": "markdown",
   "metadata": {},
   "source": [
    "# Financial Planning with APIs and Simulations\n",
    "\n",
    "In this Challenge, you’ll create two financial analysis tools by using a single Jupyter notebook:\n",
    "\n",
    "Part 1: A financial planner for emergencies. The members will be able to use this tool to visualize their current savings. The members can then determine if they have enough reserves for an emergency fund.\n",
    "\n",
    "Part 2: A financial planner for retirement. This tool will forecast the performance of their retirement portfolio in 30 years. To do this, the tool will make an Alpaca API call via the Alpaca SDK to get historical price data for use in Monte Carlo simulations.\n",
    "\n",
    "You’ll use the information from the Monte Carlo simulation to answer questions about the portfolio in your Jupyter notebook.\n",
    "\n"
   ]
  },
  {
   "cell_type": "code",
   "execution_count": 1,
   "metadata": {},
   "outputs": [],
   "source": [
    "# Import the required libraries and dependencies\n",
    "import os\n",
    "import requests\n",
    "import json\n",
    "import pandas as pd\n",
    "from dotenv import load_dotenv\n",
    "import alpaca_trade_api as tradeapi\n",
    "from MCForecastTools import MCSimulation\n",
    "\n",
    "%matplotlib inline"
   ]
  },
  {
   "cell_type": "code",
   "execution_count": 2,
   "metadata": {},
   "outputs": [
    {
     "data": {
      "text/plain": [
       "True"
      ]
     },
     "execution_count": 2,
     "metadata": {},
     "output_type": "execute_result"
    }
   ],
   "source": [
    "# Load the environment variables from the .env file\n",
    "#by calling the load_dotenv function\n",
    "load_dotenv()"
   ]
  },
  {
   "cell_type": "markdown",
   "metadata": {},
   "source": [
    "## Part 1: Create a Financial Planner for Emergencies"
   ]
  },
  {
   "cell_type": "markdown",
   "metadata": {},
   "source": [
    "### Evaluate the Cryptocurrency Wallet by Using the Requests Library\n",
    "\n",
    "In this section, you’ll determine the current value of a member’s cryptocurrency wallet. You’ll collect the current prices for the Bitcoin and Ethereum cryptocurrencies by using the Python Requests library. For the prototype, you’ll assume that the member holds the 1.2 Bitcoins (BTC) and 5.3 Ethereum coins (ETH). To do all this, complete the following steps:\n",
    "\n",
    "1. Create a variable named `monthly_income`, and set its value to `12000`.\n",
    "\n",
    "2. Use the Requests library to get the current price (in US dollars) of Bitcoin (BTC) and Ethereum (ETH) by using the API endpoints that the starter code supplies.\n",
    "\n",
    "3. Navigate the JSON response object to access the current price of each coin, and store each in a variable.\n",
    "\n",
    "    > **Hint** Note the specific identifier for each cryptocurrency in the API JSON response. The Bitcoin identifier is `1`, and the Ethereum identifier is `1027`.\n",
    "\n",
    "4. Calculate the value, in US dollars, of the current amount of each cryptocurrency and of the entire cryptocurrency wallet.\n",
    "\n"
   ]
  },
  {
   "cell_type": "code",
   "execution_count": 3,
   "metadata": {},
   "outputs": [],
   "source": [
    "# The current number of coins for each cryptocurrency asset held in the portfolio.\n",
    "btc_coins = 1.2\n",
    "eth_coins = 5.3"
   ]
  },
  {
   "cell_type": "markdown",
   "metadata": {},
   "source": [
    "#### Step 1: Create a variable named `monthly_income`, and set its value to `12000`."
   ]
  },
  {
   "cell_type": "code",
   "execution_count": 4,
   "metadata": {},
   "outputs": [],
   "source": [
    "# The monthly amount for the member's household income\n",
    "monthly_income = 12000"
   ]
  },
  {
   "cell_type": "markdown",
   "metadata": {},
   "source": [
    "#### Review the endpoint URLs for the API calls to Free Crypto API in order to get the current pricing information for both BTC and ETH."
   ]
  },
  {
   "cell_type": "code",
   "execution_count": 5,
   "metadata": {},
   "outputs": [],
   "source": [
    "# The Free Crypto API Call endpoint URLs for the held cryptocurrency assets\n",
    "btc_url = \"https://api.alternative.me/v2/ticker/Bitcoin/?convert=USD\"\n",
    "eth_url = \"https://api.alternative.me/v2/ticker/Ethereum/?convert=USD\""
   ]
  },
  {
   "cell_type": "markdown",
   "metadata": {},
   "source": [
    "#### Step 2. Use the Requests library to get the current price (in US dollars) of Bitcoin (BTC) and Ethereum (ETH) by using the API endpoints that the starter code supplied."
   ]
  },
  {
   "cell_type": "code",
   "execution_count": 6,
   "metadata": {},
   "outputs": [
    {
     "name": "stdout",
     "output_type": "stream",
     "text": [
      "{\n",
      "    \"data\": {\n",
      "        \"1\": {\n",
      "            \"circulating_supply\": 18697793,\n",
      "            \"id\": 1,\n",
      "            \"last_updated\": 1620018229,\n",
      "            \"max_supply\": 21000000,\n",
      "            \"name\": \"Bitcoin\",\n",
      "            \"quotes\": {\n",
      "                \"USD\": {\n",
      "                    \"market_cap\": 1080493805906,\n",
      "                    \"percent_change_1h\": -0.249410466369375,\n",
      "                    \"percent_change_24h\": 1.57803890813266,\n",
      "                    \"percent_change_7d\": 18.0198868989801,\n",
      "                    \"percentage_change_1h\": -0.249410466369375,\n",
      "                    \"percentage_change_24h\": 1.57803890813266,\n",
      "                    \"percentage_change_7d\": 18.0198868989801,\n",
      "                    \"price\": 57808.0,\n",
      "                    \"volume_24h\": 40397123893\n",
      "                }\n",
      "            },\n",
      "            \"rank\": 1,\n",
      "            \"symbol\": \"BTC\",\n",
      "            \"total_supply\": 18697793,\n",
      "            \"website_slug\": \"bitcoin\"\n",
      "        }\n",
      "    },\n",
      "    \"metadata\": {\n",
      "        \"error\": null,\n",
      "        \"num_cryptocurrencies\": 1308,\n",
      "        \"timestamp\": 1620018229\n",
      "    }\n",
      "}\n"
     ]
    }
   ],
   "source": [
    "# Using the Python requests library, make an API call to access the current price of BTC\n",
    "# Use get function to acquire data from API alternative website\n",
    "btc_response = requests.get(btc_url).json()\n",
    "\n",
    "# Use the json.dumps function to review the response data from the API call\n",
    "# Use the indent and sort_keys parameters to make the response object readable\n",
    "print(json.dumps(btc_response, indent=4, sort_keys=True))\n"
   ]
  },
  {
   "cell_type": "code",
   "execution_count": 7,
   "metadata": {},
   "outputs": [
    {
     "name": "stdout",
     "output_type": "stream",
     "text": [
      "{\n",
      "    \"data\": {\n",
      "        \"1027\": {\n",
      "            \"circulating_supply\": 115717416,\n",
      "            \"id\": 1027,\n",
      "            \"last_updated\": 1620018260,\n",
      "            \"max_supply\": 0,\n",
      "            \"name\": \"Ethereum\",\n",
      "            \"quotes\": {\n",
      "                \"USD\": {\n",
      "                    \"market_cap\": 353161362668,\n",
      "                    \"percent_change_1h\": -0.0678163531964497,\n",
      "                    \"percent_change_24h\": 4.41074917619841,\n",
      "                    \"percent_change_7d\": 32.343773633657,\n",
      "                    \"percentage_change_1h\": -0.0678163531964497,\n",
      "                    \"percentage_change_24h\": 4.41074917619841,\n",
      "                    \"percentage_change_7d\": 32.343773633657,\n",
      "                    \"price\": 3053.64,\n",
      "                    \"volume_24h\": 38432516050\n",
      "                }\n",
      "            },\n",
      "            \"rank\": 2,\n",
      "            \"symbol\": \"ETH\",\n",
      "            \"total_supply\": 115717416,\n",
      "            \"website_slug\": \"ethereum\"\n",
      "        }\n",
      "    },\n",
      "    \"metadata\": {\n",
      "        \"error\": null,\n",
      "        \"num_cryptocurrencies\": 1308,\n",
      "        \"timestamp\": 1620018260\n",
      "    }\n",
      "}\n"
     ]
    }
   ],
   "source": [
    "# Using the Python requests library, make an API call to access the current price ETH\n",
    "# Use get function to acquire data from API alternative website\n",
    "eth_response = requests.get(eth_url).json()\n",
    "\n",
    "# Use the json.dumps function to review the response data from the API call\n",
    "# Use the indent and sort_keys parameters to make the response object readable\n",
    "print(json.dumps(eth_response, indent=4, sort_keys=True))\n"
   ]
  },
  {
   "cell_type": "markdown",
   "metadata": {},
   "source": [
    "#### Step 3: Navigate the JSON response object to access the current price of each coin, and store each in a variable."
   ]
  },
  {
   "cell_type": "code",
   "execution_count": 8,
   "metadata": {},
   "outputs": [
    {
     "name": "stdout",
     "output_type": "stream",
     "text": [
      "The current price of BTC is $ 57808.00\n"
     ]
    }
   ],
   "source": [
    "# Navigate the BTC response object to access the current price of BTC\n",
    "btc_price = btc_response[\"data\"][\"1\"][\"quotes\"][\"USD\"][\"price\"]\n",
    "\n",
    "# Print the current price of BTC\n",
    "print(f\"The current price of BTC is ${btc_price: .2f}\")\n"
   ]
  },
  {
   "cell_type": "code",
   "execution_count": 9,
   "metadata": {},
   "outputs": [
    {
     "name": "stdout",
     "output_type": "stream",
     "text": [
      "The current price of ETH is $ 3053.64\n"
     ]
    }
   ],
   "source": [
    "# Navigate the BTC response object to access the current price of ETH\n",
    "eth_price = eth_response[\"data\"][\"1027\"][\"quotes\"][\"USD\"][\"price\"]\n",
    "\n",
    "# Print the current price of ETH\n",
    "print(f\"The current price of ETH is ${eth_price: .2f}\")\n"
   ]
  },
  {
   "cell_type": "markdown",
   "metadata": {},
   "source": [
    "### Step 4: Calculate the value, in US dollars, of the current amount of each cryptocurrency and of the entire cryptocurrency wallet."
   ]
  },
  {
   "cell_type": "code",
   "execution_count": 10,
   "metadata": {},
   "outputs": [
    {
     "name": "stdout",
     "output_type": "stream",
     "text": [
      "The current value of your holding in BTC is $ 69369.60\n"
     ]
    }
   ],
   "source": [
    "# Compute the current value of the BTC holding \n",
    "btc_value = btc_price * btc_coins\n",
    "\n",
    "# Print current value of your holding in BTC\n",
    "print(f\"The current value of your holding in BTC is ${btc_value: .2f}\")\n"
   ]
  },
  {
   "cell_type": "code",
   "execution_count": 11,
   "metadata": {},
   "outputs": [
    {
     "name": "stdout",
     "output_type": "stream",
     "text": [
      "The current value of your holding in ETH is $ 16184.29\n"
     ]
    }
   ],
   "source": [
    "# Compute the current value of the ETH holding \n",
    "eth_value = eth_price * eth_coins\n",
    "\n",
    "# Print current value of your holding in ETH\n",
    "print(f\"The current value of your holding in ETH is ${eth_value: .2f}\")\n"
   ]
  },
  {
   "cell_type": "code",
   "execution_count": 12,
   "metadata": {},
   "outputs": [
    {
     "name": "stdout",
     "output_type": "stream",
     "text": [
      "The current value of your cryptocurrency wallet balance is $ 85553.89\n"
     ]
    }
   ],
   "source": [
    "# Compute the total value of the cryptocurrency wallet\n",
    "# Add the value of the BTC holding to the value of the ETH holding\n",
    "total_crypto_wallet = btc_value + eth_value\n",
    "\n",
    "# Print current cryptocurrency wallet balance\n",
    "print(f\"The current value of your cryptocurrency wallet balance is ${total_crypto_wallet: .2f}\")\n"
   ]
  },
  {
   "cell_type": "markdown",
   "metadata": {},
   "source": [
    "### Evaluate the Stock and Bond Holdings by Using the Alpaca SDK\n",
    "\n",
    "In this section, you’ll determine the current value of a member’s stock and bond holdings. You’ll make an API call to Alpaca via the Alpaca SDK to get the current closing prices of the SPDR S&P 500 ETF Trust (ticker: SPY) and of the iShares Core US Aggregate Bond ETF (ticker: AGG). For the prototype, assume that the member holds 110 shares of SPY, which represents the stock portion of their portfolio, and 200 shares of AGG, which represents the bond portion. To do all this, complete the following steps:\n",
    "\n",
    "1. In the `Starter_Code` folder, create an environment file (`.env`) to store the values of your Alpaca API key and Alpaca secret key.\n",
    "\n",
    "2. Set the variables for the Alpaca API and secret keys. Using the Alpaca SDK, create the Alpaca `tradeapi.REST` object. In this object, include the parameters for the Alpaca API key, the secret key, and the version number.\n",
    "\n",
    "3. Set the following parameters for the Alpaca API call:\n",
    "\n",
    "    - `tickers`: Use the tickers for the member’s stock and bond holdings.\n",
    "\n",
    "    - `timeframe`: Use a time frame of one day.\n",
    "\n",
    "    - `start_date` and `end_date`: Use the same date for these parameters, and format them with the date of the previous weekday (or `2020-08-07`). This is because you want the one closing price for the most-recent trading day.\n",
    "\n",
    "4. Get the current closing prices for `SPY` and `AGG` by using the Alpaca `get_barset` function. Format the response as a Pandas DataFrame by including the `df` property at the end of the `get_barset` function.\n",
    "\n",
    "5. Navigating the Alpaca response DataFrame, select the `SPY` and `AGG` closing prices, and store them as variables.\n",
    "\n",
    "6. Calculate the value, in US dollars, of the current amount of shares in each of the stock and bond portions of the portfolio, and print the results.\n"
   ]
  },
  {
   "cell_type": "markdown",
   "metadata": {},
   "source": [
    "#### Review the total number of shares held in both (SPY) and (AGG)."
   ]
  },
  {
   "cell_type": "code",
   "execution_count": 13,
   "metadata": {},
   "outputs": [],
   "source": [
    "# Current amount of shares held in both the stock (SPY) and bond (AGG) portion of the portfolio.\n",
    "spy_shares = 110\n",
    "agg_shares = 200\n"
   ]
  },
  {
   "cell_type": "markdown",
   "metadata": {},
   "source": [
    "#### Step 1: In the `Starter_Code` folder, create an environment file (`.env`) to store the values of your Alpaca API key and Alpaca secret key."
   ]
  },
  {
   "cell_type": "markdown",
   "metadata": {},
   "source": [
    "#### Step 2: Set the variables for the Alpaca API and secret keys. Using the Alpaca SDK, create the Alpaca `tradeapi.REST` object. In this object, include the parameters for the Alpaca API key, the secret key, and the version number."
   ]
  },
  {
   "cell_type": "code",
   "execution_count": 14,
   "metadata": {},
   "outputs": [
    {
     "name": "stdout",
     "output_type": "stream",
     "text": [
      "Alpaca Key type: <class 'str'>\n",
      "Alpaca Secret Key type: <class 'str'>\n"
     ]
    }
   ],
   "source": [
    "# Set the variables for the Alpaca API and secret keys\n",
    "alpaca_api_key = os.getenv(\"ALPACA_API_KEY\")\n",
    "alpaca_secret_key = os.getenv(\"ALPACA_SECRET_KEY\")\n",
    "\n",
    "# Verify that Alpaca key and secret were correctly loaded\n",
    "print(f\"Alpaca Key type: {type(alpaca_api_key)}\")\n",
    "print(f\"Alpaca Secret Key type: {type(alpaca_secret_key)}\")\n",
    "\n",
    "# Create the Alpaca tradeapi.REST object\n",
    "alpaca = tradeapi.REST(\n",
    "    alpaca_api_key,\n",
    "    alpaca_secret_key,\n",
    "    api_version=\"v2\")\n"
   ]
  },
  {
   "cell_type": "markdown",
   "metadata": {},
   "source": [
    "#### Step 3: Set the following parameters for the Alpaca API call:\n",
    "\n",
    "- `tickers`: Use the tickers for the member’s stock and bond holdings.\n",
    "\n",
    "- `timeframe`: Use a time frame of one day.\n",
    "\n",
    "- `start_date` and `end_date`: Use the same date for these parameters, and format them with the date of the previous weekday (or `2020-08-07`). This is because you want the one closing price for the most-recent trading day.\n"
   ]
  },
  {
   "cell_type": "code",
   "execution_count": 15,
   "metadata": {},
   "outputs": [],
   "source": [
    "# Set the tickers for both the bond and stock portion of the portfolio\n",
    "tickers = [\"SPY\", \"AGG\"]\n",
    "\n",
    "# Set timeframe to 1D \n",
    "timeframe = \"1D\"\n",
    "\n",
    "# Format current date as ISO format\n",
    "# Set both the start and end date at the date of your prior weekday \n",
    "# This will give you the closing price of the previous trading day\n",
    "# Alternatively you can use a start and end date of 2020-08-07\n",
    "start_date = pd.Timestamp(\"2021-04-30\", tz=\"America/New_York\").isoformat()\n",
    "end_date = pd.Timestamp(\"2021-04-30\", tz=\"America/New_York\").isoformat()\n"
   ]
  },
  {
   "cell_type": "markdown",
   "metadata": {},
   "source": [
    "#### Step 4: Get the current closing prices for `SPY` and `AGG` by using the Alpaca `get_barset` function. Format the response as a Pandas DataFrame by including the `df` property at the end of the `get_barset` function."
   ]
  },
  {
   "cell_type": "code",
   "execution_count": 16,
   "metadata": {},
   "outputs": [
    {
     "data": {
      "text/html": [
       "<div>\n",
       "<style scoped>\n",
       "    .dataframe tbody tr th:only-of-type {\n",
       "        vertical-align: middle;\n",
       "    }\n",
       "\n",
       "    .dataframe tbody tr th {\n",
       "        vertical-align: top;\n",
       "    }\n",
       "\n",
       "    .dataframe thead tr th {\n",
       "        text-align: left;\n",
       "    }\n",
       "\n",
       "    .dataframe thead tr:last-of-type th {\n",
       "        text-align: right;\n",
       "    }\n",
       "</style>\n",
       "<table border=\"1\" class=\"dataframe\">\n",
       "  <thead>\n",
       "    <tr>\n",
       "      <th></th>\n",
       "      <th colspan=\"5\" halign=\"left\">AGG</th>\n",
       "      <th colspan=\"5\" halign=\"left\">SPY</th>\n",
       "    </tr>\n",
       "    <tr>\n",
       "      <th></th>\n",
       "      <th>open</th>\n",
       "      <th>high</th>\n",
       "      <th>low</th>\n",
       "      <th>close</th>\n",
       "      <th>volume</th>\n",
       "      <th>open</th>\n",
       "      <th>high</th>\n",
       "      <th>low</th>\n",
       "      <th>close</th>\n",
       "      <th>volume</th>\n",
       "    </tr>\n",
       "    <tr>\n",
       "      <th>time</th>\n",
       "      <th></th>\n",
       "      <th></th>\n",
       "      <th></th>\n",
       "      <th></th>\n",
       "      <th></th>\n",
       "      <th></th>\n",
       "      <th></th>\n",
       "      <th></th>\n",
       "      <th></th>\n",
       "      <th></th>\n",
       "    </tr>\n",
       "  </thead>\n",
       "  <tbody>\n",
       "    <tr>\n",
       "      <th>2021-04-30 00:00:00-04:00</th>\n",
       "      <td>114.41</td>\n",
       "      <td>114.515</td>\n",
       "      <td>114.33</td>\n",
       "      <td>114.5</td>\n",
       "      <td>5160765</td>\n",
       "      <td>417.63</td>\n",
       "      <td>418.54</td>\n",
       "      <td>416.34</td>\n",
       "      <td>417.3</td>\n",
       "      <td>73129109</td>\n",
       "    </tr>\n",
       "  </tbody>\n",
       "</table>\n",
       "</div>"
      ],
      "text/plain": [
       "                              AGG                                      SPY  \\\n",
       "                             open     high     low  close   volume    open   \n",
       "time                                                                         \n",
       "2021-04-30 00:00:00-04:00  114.41  114.515  114.33  114.5  5160765  417.63   \n",
       "\n",
       "                                                            \n",
       "                             high     low  close    volume  \n",
       "time                                                        \n",
       "2021-04-30 00:00:00-04:00  418.54  416.34  417.3  73129109  "
      ]
     },
     "execution_count": 16,
     "metadata": {},
     "output_type": "execute_result"
    }
   ],
   "source": [
    "# Use the Alpaca get_barset function to get current closing prices the portfolio\n",
    "# Be sure to set the `df` property after the function to format the response object as a DataFrame\n",
    "alpaca_df_portfolio_year = alpaca.get_barset(\n",
    "    tickers,\n",
    "    timeframe,\n",
    "    start = start_date,\n",
    "    end = end_date\n",
    ").df\n",
    "\n",
    "# Review the first 5 rows of the Alpaca DataFrame\n",
    "alpaca_df_portfolio_year.head(5)\n"
   ]
  },
  {
   "cell_type": "markdown",
   "metadata": {},
   "source": [
    "#### Step 5: Navigating the Alpaca response DataFrame, select the `SPY` and `AGG` closing prices, and store them as variables."
   ]
  },
  {
   "cell_type": "code",
   "execution_count": 17,
   "metadata": {},
   "outputs": [
    {
     "name": "stdout",
     "output_type": "stream",
     "text": [
      "The AGG closing price of April 30, 2021 is $ 114.50\n"
     ]
    }
   ],
   "source": [
    "# Access the closing price for AGG from the Alpaca DataFrame\n",
    "# Converting the value to a floating point number\n",
    "agg_close_price = float(alpaca_df_portfolio_year[\"AGG\"][\"close\"])\n",
    "\n",
    "# Print the AGG closing price\n",
    "print(f\"The AGG closing price of April 30, 2021 is ${agg_close_price: .2f}\")\n"
   ]
  },
  {
   "cell_type": "code",
   "execution_count": 18,
   "metadata": {},
   "outputs": [
    {
     "name": "stdout",
     "output_type": "stream",
     "text": [
      "The SPY closing price of April 30, 2021 is $ 417.30\n"
     ]
    }
   ],
   "source": [
    "# Access the closing price for SPY from the Alpaca DataFrame\n",
    "# Converting the value to a floating point number\n",
    "spy_close_price = float(alpaca_df_portfolio_year[\"SPY\"][\"close\"])\n",
    "\n",
    "# Print the SPY closing price\n",
    "print(f\"The SPY closing price of April 30, 2021 is ${spy_close_price: .2f}\")\n"
   ]
  },
  {
   "cell_type": "markdown",
   "metadata": {},
   "source": [
    "#### Step 6: Calculate the value, in US dollars, of the current amount of shares in each of the stock and bond portions of the portfolio, and print the results."
   ]
  },
  {
   "cell_type": "code",
   "execution_count": 19,
   "metadata": {},
   "outputs": [
    {
     "name": "stdout",
     "output_type": "stream",
     "text": [
      "The current value of the bond portfolio, composed of iShares Core US Aggregate Bond ETF, is $ 22900.00\n"
     ]
    }
   ],
   "source": [
    "# Calculate the current value of the bond portion of the portfolio\n",
    "agg_value = agg_close_price * agg_shares\n",
    "\n",
    "# Print the current value of the bond portfolio\n",
    "print(f\"The current value of the bond portfolio, composed of iShares Core US Aggregate Bond ETF, is ${agg_value: .2f}\")\n"
   ]
  },
  {
   "cell_type": "code",
   "execution_count": 20,
   "metadata": {},
   "outputs": [
    {
     "name": "stdout",
     "output_type": "stream",
     "text": [
      "The current value of the stock portfolio, composed of SPDR S&P 500 ETF Trust, is $ 45903.00\n"
     ]
    }
   ],
   "source": [
    "# Calculate the current value of the stock portion of the portfolio\n",
    "spy_value = spy_close_price * spy_shares\n",
    "\n",
    "# Print the current value of the stock portfolio\n",
    "print(f\"The current value of the stock portfolio, composed of SPDR S&P 500 ETF Trust, is ${spy_value: .2f}\")\n"
   ]
  },
  {
   "cell_type": "code",
   "execution_count": 21,
   "metadata": {},
   "outputs": [
    {
     "name": "stdout",
     "output_type": "stream",
     "text": [
      "The current value of the combined stock and bond portfolio is $ 68803.00\n"
     ]
    }
   ],
   "source": [
    "# Calculate the total value of the stock and bond portion of the portfolio\n",
    "total_stocks_bonds = agg_value + spy_value\n",
    "\n",
    "# Print the current balance of the stock and bond portion of the portfolio\n",
    "print(f\"The current value of the combined stock and bond portfolio is ${total_stocks_bonds: .2f}\")\n"
   ]
  },
  {
   "cell_type": "code",
   "execution_count": 22,
   "metadata": {},
   "outputs": [
    {
     "name": "stdout",
     "output_type": "stream",
     "text": [
      "The current value of the combined total portfolio is $ 154356.89\n",
      "The current value of your cryptocurrency wallet balance is $ 85553.89\n"
     ]
    }
   ],
   "source": [
    "# Calculate the total value of the member's entire savings portfolio\n",
    "# Add the value of the cryptocurrency wallet to the value of the total stocks and bonds\n",
    "total_portfolio = total_stocks_bonds + total_crypto_wallet\n",
    "print(f\"The current value of the combined total portfolio is ${total_portfolio: .2f}\")\n",
    "\n",
    "# Print current cryptocurrency wallet balance\n",
    "print(f\"The current value of your cryptocurrency wallet balance is ${total_crypto_wallet: .2f}\")\n"
   ]
  },
  {
   "cell_type": "markdown",
   "metadata": {},
   "source": [
    "### Evaluate the Emergency Fund\n",
    "\n",
    "In this section, you’ll use the valuations for the cryptocurrency wallet and for the stock and bond portions of the portfolio to determine if the credit union member has enough savings to build an emergency fund into their financial plan. To do this, complete the following steps:\n",
    "\n",
    "1. Create a Python list named `savings_data` that has two elements. The first element contains the total value of the cryptocurrency wallet. The second element contains the total value of the stock and bond portions of the portfolio.\n",
    "\n",
    "2. Use the `savings_data` list to create a Pandas DataFrame named `savings_df`, and then display this DataFrame. The function to create the DataFrame should take the following three parameters:\n",
    "\n",
    "    - `savings_data`: Use the list that you just created.\n",
    "\n",
    "    - `columns`: Set this parameter equal to a Python list with a single value called `amount`.\n",
    "\n",
    "    - `index`: Set this parameter equal to a Python list with the values of `crypto` and `stock/bond`.\n",
    "\n",
    "3. Use the `savings_df` DataFrame to plot a pie chart that visualizes the composition of the member’s portfolio. The y-axis of the pie chart uses `amount`. Be sure to add a title.\n",
    "\n",
    "4. Using Python, determine if the current portfolio has enough to create an emergency fund as part of the member’s financial plan. Ideally, an emergency fund should equal to three times the member’s monthly income. To do this, implement the following steps:\n",
    "\n",
    "    1. Create a variable named `emergency_fund_value`, and set it equal to three times the value of the member’s `monthly_income` of $12000. (You set this earlier in Part 1).\n",
    "\n",
    "    2. Create a series of three if statements to determine if the member’s total portfolio is large enough to fund the emergency portfolio:\n",
    "\n",
    "        1. If the total portfolio value is greater than the emergency fund value, display a message congratulating the member for having enough money in this fund.\n",
    "\n",
    "        2. Else if the total portfolio value is equal to the emergency fund value, display a message congratulating the member on reaching this important financial goal.\n",
    "\n",
    "        3. Else the total portfolio is less than the emergency fund value, so display a message showing how many dollars away the member is from reaching the goal. (Subtract the total portfolio value from the emergency fund value.)\n"
   ]
  },
  {
   "cell_type": "markdown",
   "metadata": {},
   "source": [
    "#### Step 1: Create a Python list named `savings_data` that has two elements. The first element contains the total value of the cryptocurrency wallet. The second element contains the total value of the stock and bond portions of the portfolio."
   ]
  },
  {
   "cell_type": "code",
   "execution_count": 23,
   "metadata": {},
   "outputs": [
    {
     "data": {
      "text/plain": [
       "[85553.89199999999, 68803.0]"
      ]
     },
     "execution_count": 23,
     "metadata": {},
     "output_type": "execute_result"
    }
   ],
   "source": [
    "# Consolidate financial assets data into a Python list\n",
    "savings_data = [total_crypto_wallet, total_stocks_bonds]\n",
    "\n",
    "# Review the Python list savings_data\n",
    "savings_data\n"
   ]
  },
  {
   "cell_type": "markdown",
   "metadata": {},
   "source": [
    "#### Step 2: Use the `savings_data` list to create a Pandas DataFrame named `savings_df`, and then display this DataFrame. The function to create the DataFrame should take the following three parameters:\n",
    "\n",
    "- `savings_data`: Use the list that you just created.\n",
    "\n",
    "- `columns`: Set this parameter equal to a Python list with a single value called `amount`.\n",
    "\n",
    "- `index`: Set this parameter equal to a Python list with the values of `crypto` and `stock/bond`.\n"
   ]
  },
  {
   "cell_type": "code",
   "execution_count": 24,
   "metadata": {},
   "outputs": [
    {
     "data": {
      "text/html": [
       "<div>\n",
       "<style scoped>\n",
       "    .dataframe tbody tr th:only-of-type {\n",
       "        vertical-align: middle;\n",
       "    }\n",
       "\n",
       "    .dataframe tbody tr th {\n",
       "        vertical-align: top;\n",
       "    }\n",
       "\n",
       "    .dataframe thead th {\n",
       "        text-align: right;\n",
       "    }\n",
       "</style>\n",
       "<table border=\"1\" class=\"dataframe\">\n",
       "  <thead>\n",
       "    <tr style=\"text-align: right;\">\n",
       "      <th></th>\n",
       "      <th>Amount</th>\n",
       "    </tr>\n",
       "  </thead>\n",
       "  <tbody>\n",
       "    <tr>\n",
       "      <th>Crypto</th>\n",
       "      <td>85553.892</td>\n",
       "    </tr>\n",
       "    <tr>\n",
       "      <th>Stock/Bond</th>\n",
       "      <td>68803.000</td>\n",
       "    </tr>\n",
       "  </tbody>\n",
       "</table>\n",
       "</div>"
      ],
      "text/plain": [
       "               Amount\n",
       "Crypto      85553.892\n",
       "Stock/Bond  68803.000"
      ]
     },
     "execution_count": 24,
     "metadata": {},
     "output_type": "execute_result"
    }
   ],
   "source": [
    "# Create a Pandas DataFrame called savings_df \n",
    "savings_df = pd.DataFrame(\n",
    "    savings_data,\n",
    "    columns=[\"Amount\"],\n",
    "    index = [\"Crypto\",\"Stock/Bond\"]\n",
    ")\n",
    "\n",
    "# Display the savings_df DataFrame\n",
    "savings_df\n"
   ]
  },
  {
   "cell_type": "markdown",
   "metadata": {},
   "source": [
    "#### Step 3: Use the `savings_df` DataFrame to plot a pie chart that visualizes the composition of the member’s portfolio. The y-axis of the pie chart uses `amount`. Be sure to add a title."
   ]
  },
  {
   "cell_type": "code",
   "execution_count": 25,
   "metadata": {},
   "outputs": [
    {
     "data": {
      "text/plain": [
       "<AxesSubplot:title={'center':'Portfolio composition - April 30, 2021'}, ylabel='Amount'>"
      ]
     },
     "execution_count": 25,
     "metadata": {},
     "output_type": "execute_result"
    },
    {
     "data": {
      "image/png": "[encoded data removed]",
      "text/plain": [
       "<Figure size 432x288 with 1 Axes>"
      ]
     },
     "metadata": {},
     "output_type": "display_data"
    }
   ],
   "source": [
    "# Plot the total value of the member's portfolio (crypto and stock/bond) in a pie chart\n",
    "savings_df.plot.pie(y=\"Amount\", title=\"Portfolio composition - April 30, 2021\")\n"
   ]
  },
  {
   "cell_type": "markdown",
   "metadata": {},
   "source": [
    "#### Step 4: Using Python, determine if the current portfolio has enough to create an emergency fund as part of the member’s financial plan. Ideally, an emergency fund should equal to three times the member’s monthly income. To do this, implement the following steps:\n",
    "\n",
    "Step 1. Create a variable named `emergency_fund_value`, and set it equal to three times the value of the member’s `monthly_income` of 12000. (You set this earlier in Part 1).\n",
    "\n",
    "Step 2. Create a series of three if statements to determine if the member’s total portfolio is large enough to fund the emergency portfolio:\n",
    "\n",
    "* If the total portfolio value is greater than the emergency fund value, display a message congratulating the member for having enough money in this fund.\n",
    "\n",
    "* Else if the total portfolio value is equal to the emergency fund value, display a message congratulating the member on reaching this important financial goal.\n",
    "\n",
    "* Else the total portfolio is less than the emergency fund value, so display a message showing how many dollars away the member is from reaching the goal. (Subtract the total portfolio value from the emergency fund value.)\n"
   ]
  },
  {
   "cell_type": "markdown",
   "metadata": {},
   "source": [
    "##### Step 4-1: Create a variable named `emergency_fund_value`, and set it equal to three times the value of the member’s `monthly_income` of 12000. (You set this earlier in Part 1)."
   ]
  },
  {
   "cell_type": "code",
   "execution_count": 26,
   "metadata": {},
   "outputs": [
    {
     "data": {
      "text/plain": [
       "36000"
      ]
     },
     "execution_count": 26,
     "metadata": {},
     "output_type": "execute_result"
    }
   ],
   "source": [
    "# Create a variable named emergency_fund_value\n",
    "emergency_fund_value = monthly_income * 3\n",
    "\n",
    "emergency_fund_value"
   ]
  },
  {
   "cell_type": "markdown",
   "metadata": {},
   "source": [
    "##### Step 4-2: Create a series of three if statements to determine if the member’s total portfolio is large enough to fund the emergency portfolio:\n",
    "\n",
    "* If the total portfolio value is greater than the emergency fund value, display a message congratulating the member for having enough money in this fund.\n",
    "\n",
    "* Else if the total portfolio value is equal to the emergency fund value, display a message congratulating the member on reaching this important financial goal.\n",
    "\n",
    "* Else the total portfolio is less than the emergency fund value, so display a message showing how many dollars away the member is from reaching the goal. (Subtract the total portfolio value from the emergency fund value.)"
   ]
  },
  {
   "cell_type": "code",
   "execution_count": 27,
   "metadata": {},
   "outputs": [
    {
     "name": "stdout",
     "output_type": "stream",
     "text": [
      "Congratulations! You have enough more than enough money in the fund to cover the cost of an emergency. You are currently $ 118356.89 over the minimum threshold.\n"
     ]
    }
   ],
   "source": [
    "# Evaluate the possibility of creating an emergency fund with 3 conditions:\n",
    "if total_portfolio > emergency_fund_value:\n",
    "    print(f\"Congratulations! You have enough more than enough money in the fund to cover the cost of an emergency. You are currently ${total_portfolio - emergency_fund_value: .2f} over the minimum threshold.\")\n",
    "elif total_portfolio == emergency_fund_value:\n",
    "    print(f\"Congratulations! You have enough money in the fund to cover the cost of an emergency.\")\n",
    "elif total_portfolio < emergency_fund_value:\n",
    "    print(f\"Warning! You do not have enough money in the fund to cover the cost of an emergency. You are currently ${emergency_fund_value - total_portfolio: .2f} away from meeting the minimum threshold.\")"
   ]
  },
  {
   "cell_type": "markdown",
   "metadata": {},
   "source": [
    "## Part 2: Create a Financial Planner for Retirement"
   ]
  },
  {
   "cell_type": "markdown",
   "metadata": {},
   "source": [
    "### Create the Monte Carlo Simulation\n",
    "\n",
    "In this section, you’ll use the MCForecastTools library to create a Monte Carlo simulation for the member’s savings portfolio. To do this, complete the following steps:\n",
    "\n",
    "1. Make an API call via the Alpaca SDK to get 10 years of historical closing prices for a traditional 60/40 portfolio split: 60% stocks (SPY) and 40% bonds (AGG).\n",
    "\n",
    "2. Run a Monte Carlo simulation of 500 samples and 30 years for the 60/40 portfolio, and then plot the results.The following image shows the overlay line plot resulting from a simulation with these characteristics. However, because a random number generator is used to run each live Monte Carlo simulation, your image will differ slightly from this exact image:\n",
    "\n",
    "![A screenshot depicts the resulting plot.](Images/5-4-monte-carlo-line-plot.png)\n",
    "\n",
    "3. Plot the probability distribution of the Monte Carlo simulation. Plot the probability distribution of the Monte Carlo simulation. The following image shows the histogram plot resulting from a simulation with these characteristics. However, because a random number generator is used to run each live Monte Carlo simulation, your image will differ slightly from this exact image:\n",
    "\n",
    "![A screenshot depicts the histogram plot.](Images/5-4-monte-carlo-histogram.png)\n",
    "\n",
    "4. Generate the summary statistics for the Monte Carlo simulation.\n",
    "\n"
   ]
  },
  {
   "cell_type": "markdown",
   "metadata": {},
   "source": [
    "#### Step 1: Make an API call via the Alpaca SDK to get 10 years of historical closing prices for a traditional 60/40 portfolio split: 60% stocks (SPY) and 40% bonds (AGG)."
   ]
  },
  {
   "cell_type": "code",
   "execution_count": 28,
   "metadata": {},
   "outputs": [],
   "source": [
    "# Set start and end dates of 10 years back from your current date\n",
    "# Alternatively, you can use an end date of 2020-08-07 and work 10 years back from that date \n",
    "start_date = pd.Timestamp(\"2011-04-30\", tz=\"America/New_York\").isoformat()\n",
    "end_date = pd.Timestamp(\"2021-03-30\", tz=\"America/New_York\").isoformat()\n"
   ]
  },
  {
   "cell_type": "code",
   "execution_count": 29,
   "metadata": {},
   "outputs": [
    {
     "data": {
      "text/html": [
       "<div>\n",
       "<style scoped>\n",
       "    .dataframe tbody tr th:only-of-type {\n",
       "        vertical-align: middle;\n",
       "    }\n",
       "\n",
       "    .dataframe tbody tr th {\n",
       "        vertical-align: top;\n",
       "    }\n",
       "\n",
       "    .dataframe thead tr th {\n",
       "        text-align: left;\n",
       "    }\n",
       "\n",
       "    .dataframe thead tr:last-of-type th {\n",
       "        text-align: right;\n",
       "    }\n",
       "</style>\n",
       "<table border=\"1\" class=\"dataframe\">\n",
       "  <thead>\n",
       "    <tr>\n",
       "      <th></th>\n",
       "      <th colspan=\"5\" halign=\"left\">AGG</th>\n",
       "      <th colspan=\"5\" halign=\"left\">SPY</th>\n",
       "    </tr>\n",
       "    <tr>\n",
       "      <th></th>\n",
       "      <th>open</th>\n",
       "      <th>high</th>\n",
       "      <th>low</th>\n",
       "      <th>close</th>\n",
       "      <th>volume</th>\n",
       "      <th>open</th>\n",
       "      <th>high</th>\n",
       "      <th>low</th>\n",
       "      <th>close</th>\n",
       "      <th>volume</th>\n",
       "    </tr>\n",
       "    <tr>\n",
       "      <th>time</th>\n",
       "      <th></th>\n",
       "      <th></th>\n",
       "      <th></th>\n",
       "      <th></th>\n",
       "      <th></th>\n",
       "      <th></th>\n",
       "      <th></th>\n",
       "      <th></th>\n",
       "      <th></th>\n",
       "      <th></th>\n",
       "    </tr>\n",
       "  </thead>\n",
       "  <tbody>\n",
       "    <tr>\n",
       "      <th>2020-11-04 00:00:00-05:00</th>\n",
       "      <td>117.90</td>\n",
       "      <td>118.040</td>\n",
       "      <td>117.8300</td>\n",
       "      <td>117.925</td>\n",
       "      <td>4510329</td>\n",
       "      <td>340.86</td>\n",
       "      <td>347.94</td>\n",
       "      <td>339.59</td>\n",
       "      <td>343.495</td>\n",
       "      <td>101560371</td>\n",
       "    </tr>\n",
       "    <tr>\n",
       "      <th>2020-11-05 00:00:00-05:00</th>\n",
       "      <td>118.09</td>\n",
       "      <td>118.120</td>\n",
       "      <td>117.9100</td>\n",
       "      <td>118.060</td>\n",
       "      <td>4729082</td>\n",
       "      <td>349.25</td>\n",
       "      <td>352.19</td>\n",
       "      <td>348.86</td>\n",
       "      <td>350.210</td>\n",
       "      <td>67420157</td>\n",
       "    </tr>\n",
       "    <tr>\n",
       "      <th>2020-11-06 00:00:00-05:00</th>\n",
       "      <td>117.81</td>\n",
       "      <td>117.860</td>\n",
       "      <td>117.6699</td>\n",
       "      <td>117.800</td>\n",
       "      <td>5106146</td>\n",
       "      <td>349.93</td>\n",
       "      <td>351.51</td>\n",
       "      <td>347.65</td>\n",
       "      <td>350.190</td>\n",
       "      <td>58137413</td>\n",
       "    </tr>\n",
       "    <tr>\n",
       "      <th>2020-11-09 00:00:00-05:00</th>\n",
       "      <td>117.40</td>\n",
       "      <td>117.470</td>\n",
       "      <td>117.0600</td>\n",
       "      <td>117.240</td>\n",
       "      <td>6073474</td>\n",
       "      <td>363.97</td>\n",
       "      <td>364.38</td>\n",
       "      <td>354.06</td>\n",
       "      <td>354.540</td>\n",
       "      <td>140613847</td>\n",
       "    </tr>\n",
       "    <tr>\n",
       "      <th>2020-11-10 00:00:00-05:00</th>\n",
       "      <td>117.05</td>\n",
       "      <td>117.230</td>\n",
       "      <td>117.0300</td>\n",
       "      <td>117.050</td>\n",
       "      <td>4663301</td>\n",
       "      <td>353.49</td>\n",
       "      <td>355.18</td>\n",
       "      <td>350.51</td>\n",
       "      <td>354.070</td>\n",
       "      <td>69143380</td>\n",
       "    </tr>\n",
       "    <tr>\n",
       "      <th>...</th>\n",
       "      <td>...</td>\n",
       "      <td>...</td>\n",
       "      <td>...</td>\n",
       "      <td>...</td>\n",
       "      <td>...</td>\n",
       "      <td>...</td>\n",
       "      <td>...</td>\n",
       "      <td>...</td>\n",
       "      <td>...</td>\n",
       "      <td>...</td>\n",
       "    </tr>\n",
       "    <tr>\n",
       "      <th>2021-03-24 00:00:00-04:00</th>\n",
       "      <td>113.90</td>\n",
       "      <td>114.200</td>\n",
       "      <td>113.8600</td>\n",
       "      <td>114.170</td>\n",
       "      <td>4329752</td>\n",
       "      <td>391.00</td>\n",
       "      <td>392.75</td>\n",
       "      <td>387.49</td>\n",
       "      <td>387.530</td>\n",
       "      <td>84449100</td>\n",
       "    </tr>\n",
       "    <tr>\n",
       "      <th>2021-03-25 00:00:00-04:00</th>\n",
       "      <td>114.24</td>\n",
       "      <td>114.290</td>\n",
       "      <td>113.9900</td>\n",
       "      <td>114.095</td>\n",
       "      <td>5040681</td>\n",
       "      <td>385.98</td>\n",
       "      <td>390.55</td>\n",
       "      <td>383.90</td>\n",
       "      <td>389.630</td>\n",
       "      <td>99714368</td>\n",
       "    </tr>\n",
       "    <tr>\n",
       "      <th>2021-03-26 00:00:00-04:00</th>\n",
       "      <td>113.91</td>\n",
       "      <td>114.075</td>\n",
       "      <td>113.8600</td>\n",
       "      <td>113.930</td>\n",
       "      <td>3287634</td>\n",
       "      <td>390.93</td>\n",
       "      <td>396.41</td>\n",
       "      <td>390.29</td>\n",
       "      <td>395.990</td>\n",
       "      <td>90959116</td>\n",
       "    </tr>\n",
       "    <tr>\n",
       "      <th>2021-03-29 00:00:00-04:00</th>\n",
       "      <td>113.52</td>\n",
       "      <td>114.000</td>\n",
       "      <td>113.5200</td>\n",
       "      <td>113.720</td>\n",
       "      <td>5526443</td>\n",
       "      <td>394.40</td>\n",
       "      <td>396.75</td>\n",
       "      <td>392.81</td>\n",
       "      <td>395.770</td>\n",
       "      <td>85589461</td>\n",
       "    </tr>\n",
       "    <tr>\n",
       "      <th>2021-03-30 00:00:00-04:00</th>\n",
       "      <td>113.64</td>\n",
       "      <td>113.850</td>\n",
       "      <td>113.5250</td>\n",
       "      <td>113.815</td>\n",
       "      <td>4692114</td>\n",
       "      <td>394.42</td>\n",
       "      <td>395.45</td>\n",
       "      <td>393.02</td>\n",
       "      <td>394.400</td>\n",
       "      <td>62537671</td>\n",
       "    </tr>\n",
       "  </tbody>\n",
       "</table>\n",
       "<p>100 rows × 10 columns</p>\n",
       "</div>"
      ],
      "text/plain": [
       "                              AGG                                       \\\n",
       "                             open     high       low    close   volume   \n",
       "time                                                                     \n",
       "2020-11-04 00:00:00-05:00  117.90  118.040  117.8300  117.925  4510329   \n",
       "2020-11-05 00:00:00-05:00  118.09  118.120  117.9100  118.060  4729082   \n",
       "2020-11-06 00:00:00-05:00  117.81  117.860  117.6699  117.800  5106146   \n",
       "2020-11-09 00:00:00-05:00  117.40  117.470  117.0600  117.240  6073474   \n",
       "2020-11-10 00:00:00-05:00  117.05  117.230  117.0300  117.050  4663301   \n",
       "...                           ...      ...       ...      ...      ...   \n",
       "2021-03-24 00:00:00-04:00  113.90  114.200  113.8600  114.170  4329752   \n",
       "2021-03-25 00:00:00-04:00  114.24  114.290  113.9900  114.095  5040681   \n",
       "2021-03-26 00:00:00-04:00  113.91  114.075  113.8600  113.930  3287634   \n",
       "2021-03-29 00:00:00-04:00  113.52  114.000  113.5200  113.720  5526443   \n",
       "2021-03-30 00:00:00-04:00  113.64  113.850  113.5250  113.815  4692114   \n",
       "\n",
       "                              SPY                                      \n",
       "                             open    high     low    close     volume  \n",
       "time                                                                   \n",
       "2020-11-04 00:00:00-05:00  340.86  347.94  339.59  343.495  101560371  \n",
       "2020-11-05 00:00:00-05:00  349.25  352.19  348.86  350.210   67420157  \n",
       "2020-11-06 00:00:00-05:00  349.93  351.51  347.65  350.190   58137413  \n",
       "2020-11-09 00:00:00-05:00  363.97  364.38  354.06  354.540  140613847  \n",
       "2020-11-10 00:00:00-05:00  353.49  355.18  350.51  354.070   69143380  \n",
       "...                           ...     ...     ...      ...        ...  \n",
       "2021-03-24 00:00:00-04:00  391.00  392.75  387.49  387.530   84449100  \n",
       "2021-03-25 00:00:00-04:00  385.98  390.55  383.90  389.630   99714368  \n",
       "2021-03-26 00:00:00-04:00  390.93  396.41  390.29  395.990   90959116  \n",
       "2021-03-29 00:00:00-04:00  394.40  396.75  392.81  395.770   85589461  \n",
       "2021-03-30 00:00:00-04:00  394.42  395.45  393.02  394.400   62537671  \n",
       "\n",
       "[100 rows x 10 columns]"
      ]
     },
     "execution_count": 29,
     "metadata": {},
     "output_type": "execute_result"
    }
   ],
   "source": [
    "# Use the Alpaca get_barset function to make the API call to get the 10 years worth of pricing data\n",
    "# The tickers and timeframe parameters should have been set in Part 1 of this activity \n",
    "# The start and end dates should be updated with the information set above\n",
    "# Remember to add the df property to the end of the call so the response is returned as a DataFrame\n",
    "monte_carlo_df = alpaca.get_barset(\n",
    "    tickers,\n",
    "    timeframe,\n",
    "    start=start_date,\n",
    "    end=end_date\n",
    ").df\n",
    "\n",
    "\n",
    "# Display both the first and last five rows of the DataFrame\n",
    "monte_carlo_df\n"
   ]
  },
  {
   "cell_type": "markdown",
   "metadata": {},
   "source": [
    "#### Step 2: Run a Monte Carlo simulation of 500 samples and 30 years for the 60/40 portfolio, and then plot the results."
   ]
  },
  {
   "cell_type": "code",
   "execution_count": 30,
   "metadata": {},
   "outputs": [
    {
     "data": {
      "text/html": [
       "<div>\n",
       "<style scoped>\n",
       "    .dataframe tbody tr th:only-of-type {\n",
       "        vertical-align: middle;\n",
       "    }\n",
       "\n",
       "    .dataframe tbody tr th {\n",
       "        vertical-align: top;\n",
       "    }\n",
       "\n",
       "    .dataframe thead tr th {\n",
       "        text-align: left;\n",
       "    }\n",
       "\n",
       "    .dataframe thead tr:last-of-type th {\n",
       "        text-align: right;\n",
       "    }\n",
       "</style>\n",
       "<table border=\"1\" class=\"dataframe\">\n",
       "  <thead>\n",
       "    <tr>\n",
       "      <th></th>\n",
       "      <th colspan=\"6\" halign=\"left\">AGG</th>\n",
       "      <th colspan=\"6\" halign=\"left\">SPY</th>\n",
       "    </tr>\n",
       "    <tr>\n",
       "      <th></th>\n",
       "      <th>open</th>\n",
       "      <th>high</th>\n",
       "      <th>low</th>\n",
       "      <th>close</th>\n",
       "      <th>volume</th>\n",
       "      <th>daily_return</th>\n",
       "      <th>open</th>\n",
       "      <th>high</th>\n",
       "      <th>low</th>\n",
       "      <th>close</th>\n",
       "      <th>volume</th>\n",
       "      <th>daily_return</th>\n",
       "    </tr>\n",
       "    <tr>\n",
       "      <th>time</th>\n",
       "      <th></th>\n",
       "      <th></th>\n",
       "      <th></th>\n",
       "      <th></th>\n",
       "      <th></th>\n",
       "      <th></th>\n",
       "      <th></th>\n",
       "      <th></th>\n",
       "      <th></th>\n",
       "      <th></th>\n",
       "      <th></th>\n",
       "      <th></th>\n",
       "    </tr>\n",
       "  </thead>\n",
       "  <tbody>\n",
       "    <tr>\n",
       "      <th>2020-11-04 00:00:00-05:00</th>\n",
       "      <td>117.90</td>\n",
       "      <td>118.04</td>\n",
       "      <td>117.8300</td>\n",
       "      <td>117.925</td>\n",
       "      <td>4510329</td>\n",
       "      <td>NaN</td>\n",
       "      <td>340.86</td>\n",
       "      <td>347.94</td>\n",
       "      <td>339.59</td>\n",
       "      <td>343.495</td>\n",
       "      <td>101560371</td>\n",
       "      <td>NaN</td>\n",
       "    </tr>\n",
       "    <tr>\n",
       "      <th>2020-11-05 00:00:00-05:00</th>\n",
       "      <td>118.09</td>\n",
       "      <td>118.12</td>\n",
       "      <td>117.9100</td>\n",
       "      <td>118.060</td>\n",
       "      <td>4729082</td>\n",
       "      <td>0.001145</td>\n",
       "      <td>349.25</td>\n",
       "      <td>352.19</td>\n",
       "      <td>348.86</td>\n",
       "      <td>350.210</td>\n",
       "      <td>67420157</td>\n",
       "      <td>0.019549</td>\n",
       "    </tr>\n",
       "    <tr>\n",
       "      <th>2020-11-06 00:00:00-05:00</th>\n",
       "      <td>117.81</td>\n",
       "      <td>117.86</td>\n",
       "      <td>117.6699</td>\n",
       "      <td>117.800</td>\n",
       "      <td>5106146</td>\n",
       "      <td>-0.002202</td>\n",
       "      <td>349.93</td>\n",
       "      <td>351.51</td>\n",
       "      <td>347.65</td>\n",
       "      <td>350.190</td>\n",
       "      <td>58137413</td>\n",
       "      <td>-0.000057</td>\n",
       "    </tr>\n",
       "    <tr>\n",
       "      <th>2020-11-09 00:00:00-05:00</th>\n",
       "      <td>117.40</td>\n",
       "      <td>117.47</td>\n",
       "      <td>117.0600</td>\n",
       "      <td>117.240</td>\n",
       "      <td>6073474</td>\n",
       "      <td>-0.004754</td>\n",
       "      <td>363.97</td>\n",
       "      <td>364.38</td>\n",
       "      <td>354.06</td>\n",
       "      <td>354.540</td>\n",
       "      <td>140613847</td>\n",
       "      <td>0.012422</td>\n",
       "    </tr>\n",
       "    <tr>\n",
       "      <th>2020-11-10 00:00:00-05:00</th>\n",
       "      <td>117.05</td>\n",
       "      <td>117.23</td>\n",
       "      <td>117.0300</td>\n",
       "      <td>117.050</td>\n",
       "      <td>4663301</td>\n",
       "      <td>-0.001621</td>\n",
       "      <td>353.49</td>\n",
       "      <td>355.18</td>\n",
       "      <td>350.51</td>\n",
       "      <td>354.070</td>\n",
       "      <td>69143380</td>\n",
       "      <td>-0.001326</td>\n",
       "    </tr>\n",
       "  </tbody>\n",
       "</table>\n",
       "</div>"
      ],
      "text/plain": [
       "                              AGG                                      \\\n",
       "                             open    high       low    close   volume   \n",
       "time                                                                    \n",
       "2020-11-04 00:00:00-05:00  117.90  118.04  117.8300  117.925  4510329   \n",
       "2020-11-05 00:00:00-05:00  118.09  118.12  117.9100  118.060  4729082   \n",
       "2020-11-06 00:00:00-05:00  117.81  117.86  117.6699  117.800  5106146   \n",
       "2020-11-09 00:00:00-05:00  117.40  117.47  117.0600  117.240  6073474   \n",
       "2020-11-10 00:00:00-05:00  117.05  117.23  117.0300  117.050  4663301   \n",
       "\n",
       "                                           SPY                           \\\n",
       "                          daily_return    open    high     low    close   \n",
       "time                                                                      \n",
       "2020-11-04 00:00:00-05:00          NaN  340.86  347.94  339.59  343.495   \n",
       "2020-11-05 00:00:00-05:00     0.001145  349.25  352.19  348.86  350.210   \n",
       "2020-11-06 00:00:00-05:00    -0.002202  349.93  351.51  347.65  350.190   \n",
       "2020-11-09 00:00:00-05:00    -0.004754  363.97  364.38  354.06  354.540   \n",
       "2020-11-10 00:00:00-05:00    -0.001621  353.49  355.18  350.51  354.070   \n",
       "\n",
       "                                                   \n",
       "                              volume daily_return  \n",
       "time                                               \n",
       "2020-11-04 00:00:00-05:00  101560371          NaN  \n",
       "2020-11-05 00:00:00-05:00   67420157     0.019549  \n",
       "2020-11-06 00:00:00-05:00   58137413    -0.000057  \n",
       "2020-11-09 00:00:00-05:00  140613847     0.012422  \n",
       "2020-11-10 00:00:00-05:00   69143380    -0.001326  "
      ]
     },
     "execution_count": 30,
     "metadata": {},
     "output_type": "execute_result"
    }
   ],
   "source": [
    "# Configure the Monte Carlo simulation to forecast 30 years cumulative returns\n",
    "# The weights should be split 40% to AGG and 60% to SPY.\n",
    "# Run 500 samples.\n",
    "mc_thirty_year_simulation = MCSimulation(\n",
    "    portfolio_data=monte_carlo_df,\n",
    "    weights=[0.40, 0.60],\n",
    "    num_simulation=500,\n",
    "    num_trading_days=252*30,\n",
    ")\n",
    "\n",
    "# Review the simulation input data\n",
    "mc_thirty_year_simulation.portfolio_data.head()\n"
   ]
  },
  {
   "cell_type": "code",
   "execution_count": 31,
   "metadata": {},
   "outputs": [
    {
     "name": "stdout",
     "output_type": "stream",
     "text": [
      "Running Monte Carlo simulation number 0.\n",
      "Running Monte Carlo simulation number 10.\n",
      "Running Monte Carlo simulation number 20.\n",
      "Running Monte Carlo simulation number 30.\n",
      "Running Monte Carlo simulation number 40.\n",
      "Running Monte Carlo simulation number 50.\n",
      "Running Monte Carlo simulation number 60.\n",
      "Running Monte Carlo simulation number 70.\n",
      "Running Monte Carlo simulation number 80.\n",
      "Running Monte Carlo simulation number 90.\n",
      "Running Monte Carlo simulation number 100.\n",
      "Running Monte Carlo simulation number 110.\n",
      "Running Monte Carlo simulation number 120.\n",
      "Running Monte Carlo simulation number 130.\n",
      "Running Monte Carlo simulation number 140.\n",
      "Running Monte Carlo simulation number 150.\n",
      "Running Monte Carlo simulation number 160.\n",
      "Running Monte Carlo simulation number 170.\n",
      "Running Monte Carlo simulation number 180.\n",
      "Running Monte Carlo simulation number 190.\n",
      "Running Monte Carlo simulation number 200.\n",
      "Running Monte Carlo simulation number 210.\n",
      "Running Monte Carlo simulation number 220.\n",
      "Running Monte Carlo simulation number 230.\n",
      "Running Monte Carlo simulation number 240.\n",
      "Running Monte Carlo simulation number 250.\n",
      "Running Monte Carlo simulation number 260.\n",
      "Running Monte Carlo simulation number 270.\n",
      "Running Monte Carlo simulation number 280.\n",
      "Running Monte Carlo simulation number 290.\n",
      "Running Monte Carlo simulation number 300.\n",
      "Running Monte Carlo simulation number 310.\n",
      "Running Monte Carlo simulation number 320.\n",
      "Running Monte Carlo simulation number 330.\n",
      "Running Monte Carlo simulation number 340.\n",
      "Running Monte Carlo simulation number 350.\n",
      "Running Monte Carlo simulation number 360.\n",
      "Running Monte Carlo simulation number 370.\n",
      "Running Monte Carlo simulation number 380.\n",
      "Running Monte Carlo simulation number 390.\n",
      "Running Monte Carlo simulation number 400.\n",
      "Running Monte Carlo simulation number 410.\n",
      "Running Monte Carlo simulation number 420.\n",
      "Running Monte Carlo simulation number 430.\n",
      "Running Monte Carlo simulation number 440.\n",
      "Running Monte Carlo simulation number 450.\n",
      "Running Monte Carlo simulation number 460.\n",
      "Running Monte Carlo simulation number 470.\n",
      "Running Monte Carlo simulation number 480.\n",
      "Running Monte Carlo simulation number 490.\n"
     ]
    },
    {
     "data": {
      "text/html": [
       "<div>\n",
       "<style scoped>\n",
       "    .dataframe tbody tr th:only-of-type {\n",
       "        vertical-align: middle;\n",
       "    }\n",
       "\n",
       "    .dataframe tbody tr th {\n",
       "        vertical-align: top;\n",
       "    }\n",
       "\n",
       "    .dataframe thead th {\n",
       "        text-align: right;\n",
       "    }\n",
       "</style>\n",
       "<table border=\"1\" class=\"dataframe\">\n",
       "  <thead>\n",
       "    <tr style=\"text-align: right;\">\n",
       "      <th></th>\n",
       "      <th>0</th>\n",
       "      <th>1</th>\n",
       "      <th>2</th>\n",
       "      <th>3</th>\n",
       "      <th>4</th>\n",
       "      <th>5</th>\n",
       "      <th>6</th>\n",
       "      <th>7</th>\n",
       "      <th>8</th>\n",
       "      <th>9</th>\n",
       "      <th>...</th>\n",
       "      <th>490</th>\n",
       "      <th>491</th>\n",
       "      <th>492</th>\n",
       "      <th>493</th>\n",
       "      <th>494</th>\n",
       "      <th>495</th>\n",
       "      <th>496</th>\n",
       "      <th>497</th>\n",
       "      <th>498</th>\n",
       "      <th>499</th>\n",
       "    </tr>\n",
       "  </thead>\n",
       "  <tbody>\n",
       "    <tr>\n",
       "      <th>0</th>\n",
       "      <td>1.000000</td>\n",
       "      <td>1.000000</td>\n",
       "      <td>1.000000</td>\n",
       "      <td>1.000000</td>\n",
       "      <td>1.000000</td>\n",
       "      <td>1.000000</td>\n",
       "      <td>1.000000</td>\n",
       "      <td>1.000000</td>\n",
       "      <td>1.000000</td>\n",
       "      <td>1.000000</td>\n",
       "      <td>...</td>\n",
       "      <td>1.000000</td>\n",
       "      <td>1.000000</td>\n",
       "      <td>1.000000</td>\n",
       "      <td>1.000000</td>\n",
       "      <td>1.000000</td>\n",
       "      <td>1.000000</td>\n",
       "      <td>1.000000</td>\n",
       "      <td>1.000000</td>\n",
       "      <td>1.000000</td>\n",
       "      <td>1.000000</td>\n",
       "    </tr>\n",
       "    <tr>\n",
       "      <th>1</th>\n",
       "      <td>0.997065</td>\n",
       "      <td>1.001838</td>\n",
       "      <td>1.001738</td>\n",
       "      <td>1.000243</td>\n",
       "      <td>1.001865</td>\n",
       "      <td>0.999110</td>\n",
       "      <td>0.997376</td>\n",
       "      <td>1.001676</td>\n",
       "      <td>0.999487</td>\n",
       "      <td>0.996386</td>\n",
       "      <td>...</td>\n",
       "      <td>1.004483</td>\n",
       "      <td>0.998138</td>\n",
       "      <td>0.995284</td>\n",
       "      <td>0.999491</td>\n",
       "      <td>1.005214</td>\n",
       "      <td>1.014732</td>\n",
       "      <td>0.995016</td>\n",
       "      <td>1.011326</td>\n",
       "      <td>1.000108</td>\n",
       "      <td>0.992402</td>\n",
       "    </tr>\n",
       "    <tr>\n",
       "      <th>2</th>\n",
       "      <td>0.997750</td>\n",
       "      <td>0.996995</td>\n",
       "      <td>1.001058</td>\n",
       "      <td>1.008318</td>\n",
       "      <td>0.999610</td>\n",
       "      <td>1.000983</td>\n",
       "      <td>0.994671</td>\n",
       "      <td>0.997603</td>\n",
       "      <td>0.997018</td>\n",
       "      <td>0.993109</td>\n",
       "      <td>...</td>\n",
       "      <td>1.006312</td>\n",
       "      <td>0.992530</td>\n",
       "      <td>0.992296</td>\n",
       "      <td>1.007501</td>\n",
       "      <td>1.005054</td>\n",
       "      <td>1.011461</td>\n",
       "      <td>0.992217</td>\n",
       "      <td>1.009880</td>\n",
       "      <td>0.999880</td>\n",
       "      <td>0.981572</td>\n",
       "    </tr>\n",
       "    <tr>\n",
       "      <th>3</th>\n",
       "      <td>1.000187</td>\n",
       "      <td>1.001640</td>\n",
       "      <td>0.996164</td>\n",
       "      <td>1.013577</td>\n",
       "      <td>0.996480</td>\n",
       "      <td>0.999243</td>\n",
       "      <td>1.012810</td>\n",
       "      <td>0.997783</td>\n",
       "      <td>1.000775</td>\n",
       "      <td>0.990927</td>\n",
       "      <td>...</td>\n",
       "      <td>1.010657</td>\n",
       "      <td>0.991226</td>\n",
       "      <td>0.992974</td>\n",
       "      <td>0.999953</td>\n",
       "      <td>1.007025</td>\n",
       "      <td>1.014003</td>\n",
       "      <td>0.993168</td>\n",
       "      <td>1.011646</td>\n",
       "      <td>0.999029</td>\n",
       "      <td>0.981353</td>\n",
       "    </tr>\n",
       "    <tr>\n",
       "      <th>4</th>\n",
       "      <td>1.000645</td>\n",
       "      <td>1.003438</td>\n",
       "      <td>0.994594</td>\n",
       "      <td>1.015786</td>\n",
       "      <td>1.012729</td>\n",
       "      <td>1.005392</td>\n",
       "      <td>1.014216</td>\n",
       "      <td>0.997158</td>\n",
       "      <td>1.001546</td>\n",
       "      <td>0.992722</td>\n",
       "      <td>...</td>\n",
       "      <td>1.024353</td>\n",
       "      <td>0.986935</td>\n",
       "      <td>0.988940</td>\n",
       "      <td>0.991912</td>\n",
       "      <td>1.002226</td>\n",
       "      <td>1.015226</td>\n",
       "      <td>0.992521</td>\n",
       "      <td>1.008371</td>\n",
       "      <td>0.996935</td>\n",
       "      <td>0.982175</td>\n",
       "    </tr>\n",
       "    <tr>\n",
       "      <th>...</th>\n",
       "      <td>...</td>\n",
       "      <td>...</td>\n",
       "      <td>...</td>\n",
       "      <td>...</td>\n",
       "      <td>...</td>\n",
       "      <td>...</td>\n",
       "      <td>...</td>\n",
       "      <td>...</td>\n",
       "      <td>...</td>\n",
       "      <td>...</td>\n",
       "      <td>...</td>\n",
       "      <td>...</td>\n",
       "      <td>...</td>\n",
       "      <td>...</td>\n",
       "      <td>...</td>\n",
       "      <td>...</td>\n",
       "      <td>...</td>\n",
       "      <td>...</td>\n",
       "      <td>...</td>\n",
       "      <td>...</td>\n",
       "      <td>...</td>\n",
       "    </tr>\n",
       "    <tr>\n",
       "      <th>7556</th>\n",
       "      <td>178.119650</td>\n",
       "      <td>242.758179</td>\n",
       "      <td>675.974437</td>\n",
       "      <td>205.269585</td>\n",
       "      <td>122.655621</td>\n",
       "      <td>192.889165</td>\n",
       "      <td>229.771334</td>\n",
       "      <td>126.771005</td>\n",
       "      <td>376.817294</td>\n",
       "      <td>302.733503</td>\n",
       "      <td>...</td>\n",
       "      <td>278.822277</td>\n",
       "      <td>186.046223</td>\n",
       "      <td>198.203280</td>\n",
       "      <td>199.078552</td>\n",
       "      <td>47.520626</td>\n",
       "      <td>251.340895</td>\n",
       "      <td>105.756082</td>\n",
       "      <td>323.472618</td>\n",
       "      <td>170.239644</td>\n",
       "      <td>184.901184</td>\n",
       "    </tr>\n",
       "    <tr>\n",
       "      <th>7557</th>\n",
       "      <td>178.740915</td>\n",
       "      <td>241.647878</td>\n",
       "      <td>671.391755</td>\n",
       "      <td>206.600320</td>\n",
       "      <td>122.856931</td>\n",
       "      <td>193.605394</td>\n",
       "      <td>230.768366</td>\n",
       "      <td>127.843333</td>\n",
       "      <td>376.056439</td>\n",
       "      <td>304.481067</td>\n",
       "      <td>...</td>\n",
       "      <td>274.931939</td>\n",
       "      <td>185.501504</td>\n",
       "      <td>198.060294</td>\n",
       "      <td>197.895111</td>\n",
       "      <td>47.709501</td>\n",
       "      <td>249.478887</td>\n",
       "      <td>106.762148</td>\n",
       "      <td>324.421914</td>\n",
       "      <td>169.082781</td>\n",
       "      <td>186.351351</td>\n",
       "    </tr>\n",
       "    <tr>\n",
       "      <th>7558</th>\n",
       "      <td>177.892482</td>\n",
       "      <td>240.853910</td>\n",
       "      <td>670.819567</td>\n",
       "      <td>206.130869</td>\n",
       "      <td>122.830962</td>\n",
       "      <td>194.030058</td>\n",
       "      <td>231.579054</td>\n",
       "      <td>127.958091</td>\n",
       "      <td>377.569209</td>\n",
       "      <td>305.523606</td>\n",
       "      <td>...</td>\n",
       "      <td>274.445293</td>\n",
       "      <td>184.818170</td>\n",
       "      <td>198.222057</td>\n",
       "      <td>196.581424</td>\n",
       "      <td>47.545086</td>\n",
       "      <td>249.103729</td>\n",
       "      <td>107.588401</td>\n",
       "      <td>323.788443</td>\n",
       "      <td>170.385510</td>\n",
       "      <td>187.297516</td>\n",
       "    </tr>\n",
       "    <tr>\n",
       "      <th>7559</th>\n",
       "      <td>178.964756</td>\n",
       "      <td>242.878336</td>\n",
       "      <td>675.098991</td>\n",
       "      <td>204.497511</td>\n",
       "      <td>123.058818</td>\n",
       "      <td>193.833736</td>\n",
       "      <td>233.299557</td>\n",
       "      <td>128.768651</td>\n",
       "      <td>378.380859</td>\n",
       "      <td>307.318996</td>\n",
       "      <td>...</td>\n",
       "      <td>274.409810</td>\n",
       "      <td>186.494618</td>\n",
       "      <td>198.866364</td>\n",
       "      <td>198.816506</td>\n",
       "      <td>47.702717</td>\n",
       "      <td>249.841875</td>\n",
       "      <td>108.243790</td>\n",
       "      <td>321.253043</td>\n",
       "      <td>169.274865</td>\n",
       "      <td>188.081232</td>\n",
       "    </tr>\n",
       "    <tr>\n",
       "      <th>7560</th>\n",
       "      <td>181.085481</td>\n",
       "      <td>243.193821</td>\n",
       "      <td>675.004318</td>\n",
       "      <td>204.496624</td>\n",
       "      <td>122.812652</td>\n",
       "      <td>193.547888</td>\n",
       "      <td>234.828429</td>\n",
       "      <td>127.860941</td>\n",
       "      <td>378.980552</td>\n",
       "      <td>308.183845</td>\n",
       "      <td>...</td>\n",
       "      <td>275.514815</td>\n",
       "      <td>185.893723</td>\n",
       "      <td>199.087842</td>\n",
       "      <td>198.324202</td>\n",
       "      <td>47.919303</td>\n",
       "      <td>251.276193</td>\n",
       "      <td>108.165169</td>\n",
       "      <td>322.942731</td>\n",
       "      <td>169.643488</td>\n",
       "      <td>188.082757</td>\n",
       "    </tr>\n",
       "  </tbody>\n",
       "</table>\n",
       "<p>7561 rows × 500 columns</p>\n",
       "</div>"
      ],
      "text/plain": [
       "             0           1           2           3           4           5    \\\n",
       "0       1.000000    1.000000    1.000000    1.000000    1.000000    1.000000   \n",
       "1       0.997065    1.001838    1.001738    1.000243    1.001865    0.999110   \n",
       "2       0.997750    0.996995    1.001058    1.008318    0.999610    1.000983   \n",
       "3       1.000187    1.001640    0.996164    1.013577    0.996480    0.999243   \n",
       "4       1.000645    1.003438    0.994594    1.015786    1.012729    1.005392   \n",
       "...          ...         ...         ...         ...         ...         ...   \n",
       "7556  178.119650  242.758179  675.974437  205.269585  122.655621  192.889165   \n",
       "7557  178.740915  241.647878  671.391755  206.600320  122.856931  193.605394   \n",
       "7558  177.892482  240.853910  670.819567  206.130869  122.830962  194.030058   \n",
       "7559  178.964756  242.878336  675.098991  204.497511  123.058818  193.833736   \n",
       "7560  181.085481  243.193821  675.004318  204.496624  122.812652  193.547888   \n",
       "\n",
       "             6           7           8           9    ...         490  \\\n",
       "0       1.000000    1.000000    1.000000    1.000000  ...    1.000000   \n",
       "1       0.997376    1.001676    0.999487    0.996386  ...    1.004483   \n",
       "2       0.994671    0.997603    0.997018    0.993109  ...    1.006312   \n",
       "3       1.012810    0.997783    1.000775    0.990927  ...    1.010657   \n",
       "4       1.014216    0.997158    1.001546    0.992722  ...    1.024353   \n",
       "...          ...         ...         ...         ...  ...         ...   \n",
       "7556  229.771334  126.771005  376.817294  302.733503  ...  278.822277   \n",
       "7557  230.768366  127.843333  376.056439  304.481067  ...  274.931939   \n",
       "7558  231.579054  127.958091  377.569209  305.523606  ...  274.445293   \n",
       "7559  233.299557  128.768651  378.380859  307.318996  ...  274.409810   \n",
       "7560  234.828429  127.860941  378.980552  308.183845  ...  275.514815   \n",
       "\n",
       "             491         492         493        494         495         496  \\\n",
       "0       1.000000    1.000000    1.000000   1.000000    1.000000    1.000000   \n",
       "1       0.998138    0.995284    0.999491   1.005214    1.014732    0.995016   \n",
       "2       0.992530    0.992296    1.007501   1.005054    1.011461    0.992217   \n",
       "3       0.991226    0.992974    0.999953   1.007025    1.014003    0.993168   \n",
       "4       0.986935    0.988940    0.991912   1.002226    1.015226    0.992521   \n",
       "...          ...         ...         ...        ...         ...         ...   \n",
       "7556  186.046223  198.203280  199.078552  47.520626  251.340895  105.756082   \n",
       "7557  185.501504  198.060294  197.895111  47.709501  249.478887  106.762148   \n",
       "7558  184.818170  198.222057  196.581424  47.545086  249.103729  107.588401   \n",
       "7559  186.494618  198.866364  198.816506  47.702717  249.841875  108.243790   \n",
       "7560  185.893723  199.087842  198.324202  47.919303  251.276193  108.165169   \n",
       "\n",
       "             497         498         499  \n",
       "0       1.000000    1.000000    1.000000  \n",
       "1       1.011326    1.000108    0.992402  \n",
       "2       1.009880    0.999880    0.981572  \n",
       "3       1.011646    0.999029    0.981353  \n",
       "4       1.008371    0.996935    0.982175  \n",
       "...          ...         ...         ...  \n",
       "7556  323.472618  170.239644  184.901184  \n",
       "7557  324.421914  169.082781  186.351351  \n",
       "7558  323.788443  170.385510  187.297516  \n",
       "7559  321.253043  169.274865  188.081232  \n",
       "7560  322.942731  169.643488  188.082757  \n",
       "\n",
       "[7561 rows x 500 columns]"
      ]
     },
     "execution_count": 31,
     "metadata": {},
     "output_type": "execute_result"
    }
   ],
   "source": [
    "# Run the Monte Carlo simulation to forecast 30 years cumulative returns\n",
    "mc_thirty_year_simulation.calc_cumulative_return()\n"
   ]
  },
  {
   "cell_type": "code",
   "execution_count": 32,
   "metadata": {},
   "outputs": [
    {
     "data": {
      "text/plain": [
       "<AxesSubplot:title={'center':'500 Simulations of Cumulative Portfolio Return Trajectories Over the Next 7560 Trading Days.'}>"
      ]
     },
     "execution_count": 32,
     "metadata": {},
     "output_type": "execute_result"
    },
    {
     "data": {
      "image/png": "[encoded data removed]",
      "text/plain": [
       "<Figure size 432x288 with 1 Axes>"
      ]
     },
     "metadata": {
      "needs_background": "light"
     },
     "output_type": "display_data"
    }
   ],
   "source": [
    "# Visualize the 30-year Monte Carlo simulation by creating an\n",
    "# overlay line plot\n",
    "mc_thirty_year_simulation.plot_simulation()\n"
   ]
  },
  {
   "cell_type": "markdown",
   "metadata": {},
   "source": [
    "#### Step 3: Plot the probability distribution of the Monte Carlo simulation."
   ]
  },
  {
   "cell_type": "code",
   "execution_count": 33,
   "metadata": {},
   "outputs": [
    {
     "data": {
      "text/plain": [
       "<AxesSubplot:title={'center':'Distribution of Final Cumuluative Returns Across All 500 Simulations'}, ylabel='Frequency'>"
      ]
     },
     "execution_count": 33,
     "metadata": {},
     "output_type": "execute_result"
    },
    {
     "data": {
      "image/png": "[encoded data removed]",
      "text/plain": [
       "<Figure size 432x288 with 1 Axes>"
      ]
     },
     "metadata": {
      "needs_background": "light"
     },
     "output_type": "display_data"
    }
   ],
   "source": [
    "# Visualize the probability distribution of the 30-year Monte Carlo simulation \n",
    "# by plotting a histogram\n",
    "mc_thirty_year_simulation.plot_distribution()\n"
   ]
  },
  {
   "cell_type": "markdown",
   "metadata": {},
   "source": [
    "#### Step 4: Generate the summary statistics for the Monte Carlo simulation."
   ]
  },
  {
   "cell_type": "code",
   "execution_count": 34,
   "metadata": {},
   "outputs": [
    {
     "name": "stdout",
     "output_type": "stream",
     "text": [
      "count           500.000000\n",
      "mean            228.918660\n",
      "std             112.108721\n",
      "min              47.919303\n",
      "25%             145.908821\n",
      "50%             203.082388\n",
      "75%             290.454430\n",
      "max             762.064320\n",
      "95% CI Lower     81.625054\n",
      "95% CI Upper    528.158412\n",
      "Name: 7560, dtype: float64\n"
     ]
    }
   ],
   "source": [
    "# Generate summary statistics from the 30-year Monte Carlo simulation results\n",
    "# Save the results as a variable\n",
    "MC_thirty_summary_statistics = mc_thirty_year_simulation.summarize_cumulative_return()\n",
    "\n",
    "\n",
    "# Review the 30-year Monte Carlo summary statistics\n",
    "print(MC_thirty_summary_statistics)"
   ]
  },
  {
   "cell_type": "markdown",
   "metadata": {},
   "source": [
    "### Analyze the Retirement Portfolio Forecasts\n",
    "\n",
    "Using the current value of only the stock and bond portion of the member's portfolio and the summary statistics that you generated from the Monte Carlo simulation, answer the following question in your Jupyter notebook:\n",
    "\n",
    "-  What are the lower and upper bounds for the expected value of the portfolio with a 95% confidence interval?\n"
   ]
  },
  {
   "cell_type": "code",
   "execution_count": 35,
   "metadata": {},
   "outputs": [
    {
     "name": "stdout",
     "output_type": "stream",
     "text": [
      "The current balance of the stock and bond portion of the member's portfolio is $ 68803.00\n"
     ]
    }
   ],
   "source": [
    "# Print the current balance of the stock and bond portion of the members portfolio\n",
    "print(f\"The current balance of the stock and bond portion of the member's portfolio is ${total_stocks_bonds: .2f}\")\n"
   ]
  },
  {
   "cell_type": "code",
   "execution_count": 36,
   "metadata": {},
   "outputs": [
    {
     "name": "stdout",
     "output_type": "stream",
     "text": [
      "With 95% confidence, we can state that the member's stock & bond portfolio over the next 30 years will end up in the range between: $ 5616048.59 and $ 36338883.25.\n"
     ]
    }
   ],
   "source": [
    "# Use the lower and upper `95%` confidence intervals to calculate the range of the possible outcomes for the current stock/bond portfolio\n",
    "ci_lower_thirty_cumulative_return = MC_thirty_summary_statistics[8] * total_stocks_bonds\n",
    "ci_upper_thirty_cumulative_return = MC_thirty_summary_statistics[9] * total_stocks_bonds\n",
    "\n",
    "# Print the result of your calculations\n",
    "print(f\"With 95% confidence, we can state that the member's stock & bond portfolio\"\n",
    "    f\" over the next 30 years will end up in the range between:\"\n",
    "    f\" ${ci_lower_thirty_cumulative_return: .2f} and ${ci_upper_thirty_cumulative_return: .2f}.\")\n"
   ]
  },
  {
   "cell_type": "markdown",
   "metadata": {},
   "source": [
    "### Forecast Cumulative Returns in 10 Years\n",
    "\n",
    "The CTO of the credit union is impressed with your work on these planning tools but wonders if 30 years is a long time to wait until retirement. So, your next task is to adjust the retirement portfolio and run a new Monte Carlo simulation to find out if the changes will allow members to retire earlier.\n",
    "\n",
    "For this new Monte Carlo simulation, do the following: \n",
    "\n",
    "- Forecast the cumulative returns for 10 years from now. Because of the shortened investment horizon (30 years to 10 years), the portfolio needs to invest more heavily in the riskier asset&mdash;that is, stock&mdash;to help accumulate wealth for retirement. \n",
    "\n",
    "- Adjust the weights of the retirement portfolio so that the composition for the Monte Carlo simulation consists of 20% bonds and 80% stocks. \n",
    "\n",
    "- Run the simulation over 500 samples, and use the same data that the API call to Alpaca generated.\n",
    "\n",
    "- Based on the new Monte Carlo simulation, answer the following questions in your Jupyter notebook:\n",
    "\n",
    "    - Using the current value of only the stock and bond portion of the member's portfolio and the summary statistics that you generated from the new Monte Carlo simulation, what are the lower and upper bounds for the expected value of the portfolio (with the new weights) with a 95% confidence interval?\n",
    "\n",
    "    - Will weighting the portfolio more heavily toward stocks allow the credit union members to retire after only 10 years?\n"
   ]
  },
  {
   "cell_type": "code",
   "execution_count": 37,
   "metadata": {},
   "outputs": [
    {
     "data": {
      "text/html": [
       "<div>\n",
       "<style scoped>\n",
       "    .dataframe tbody tr th:only-of-type {\n",
       "        vertical-align: middle;\n",
       "    }\n",
       "\n",
       "    .dataframe tbody tr th {\n",
       "        vertical-align: top;\n",
       "    }\n",
       "\n",
       "    .dataframe thead tr th {\n",
       "        text-align: left;\n",
       "    }\n",
       "\n",
       "    .dataframe thead tr:last-of-type th {\n",
       "        text-align: right;\n",
       "    }\n",
       "</style>\n",
       "<table border=\"1\" class=\"dataframe\">\n",
       "  <thead>\n",
       "    <tr>\n",
       "      <th></th>\n",
       "      <th colspan=\"6\" halign=\"left\">AGG</th>\n",
       "      <th colspan=\"6\" halign=\"left\">SPY</th>\n",
       "    </tr>\n",
       "    <tr>\n",
       "      <th></th>\n",
       "      <th>open</th>\n",
       "      <th>high</th>\n",
       "      <th>low</th>\n",
       "      <th>close</th>\n",
       "      <th>volume</th>\n",
       "      <th>daily_return</th>\n",
       "      <th>open</th>\n",
       "      <th>high</th>\n",
       "      <th>low</th>\n",
       "      <th>close</th>\n",
       "      <th>volume</th>\n",
       "      <th>daily_return</th>\n",
       "    </tr>\n",
       "    <tr>\n",
       "      <th>time</th>\n",
       "      <th></th>\n",
       "      <th></th>\n",
       "      <th></th>\n",
       "      <th></th>\n",
       "      <th></th>\n",
       "      <th></th>\n",
       "      <th></th>\n",
       "      <th></th>\n",
       "      <th></th>\n",
       "      <th></th>\n",
       "      <th></th>\n",
       "      <th></th>\n",
       "    </tr>\n",
       "  </thead>\n",
       "  <tbody>\n",
       "    <tr>\n",
       "      <th>2020-11-04 00:00:00-05:00</th>\n",
       "      <td>117.90</td>\n",
       "      <td>118.04</td>\n",
       "      <td>117.8300</td>\n",
       "      <td>117.925</td>\n",
       "      <td>4510329</td>\n",
       "      <td>NaN</td>\n",
       "      <td>340.86</td>\n",
       "      <td>347.94</td>\n",
       "      <td>339.59</td>\n",
       "      <td>343.495</td>\n",
       "      <td>101560371</td>\n",
       "      <td>NaN</td>\n",
       "    </tr>\n",
       "    <tr>\n",
       "      <th>2020-11-05 00:00:00-05:00</th>\n",
       "      <td>118.09</td>\n",
       "      <td>118.12</td>\n",
       "      <td>117.9100</td>\n",
       "      <td>118.060</td>\n",
       "      <td>4729082</td>\n",
       "      <td>0.001145</td>\n",
       "      <td>349.25</td>\n",
       "      <td>352.19</td>\n",
       "      <td>348.86</td>\n",
       "      <td>350.210</td>\n",
       "      <td>67420157</td>\n",
       "      <td>0.019549</td>\n",
       "    </tr>\n",
       "    <tr>\n",
       "      <th>2020-11-06 00:00:00-05:00</th>\n",
       "      <td>117.81</td>\n",
       "      <td>117.86</td>\n",
       "      <td>117.6699</td>\n",
       "      <td>117.800</td>\n",
       "      <td>5106146</td>\n",
       "      <td>-0.002202</td>\n",
       "      <td>349.93</td>\n",
       "      <td>351.51</td>\n",
       "      <td>347.65</td>\n",
       "      <td>350.190</td>\n",
       "      <td>58137413</td>\n",
       "      <td>-0.000057</td>\n",
       "    </tr>\n",
       "    <tr>\n",
       "      <th>2020-11-09 00:00:00-05:00</th>\n",
       "      <td>117.40</td>\n",
       "      <td>117.47</td>\n",
       "      <td>117.0600</td>\n",
       "      <td>117.240</td>\n",
       "      <td>6073474</td>\n",
       "      <td>-0.004754</td>\n",
       "      <td>363.97</td>\n",
       "      <td>364.38</td>\n",
       "      <td>354.06</td>\n",
       "      <td>354.540</td>\n",
       "      <td>140613847</td>\n",
       "      <td>0.012422</td>\n",
       "    </tr>\n",
       "    <tr>\n",
       "      <th>2020-11-10 00:00:00-05:00</th>\n",
       "      <td>117.05</td>\n",
       "      <td>117.23</td>\n",
       "      <td>117.0300</td>\n",
       "      <td>117.050</td>\n",
       "      <td>4663301</td>\n",
       "      <td>-0.001621</td>\n",
       "      <td>353.49</td>\n",
       "      <td>355.18</td>\n",
       "      <td>350.51</td>\n",
       "      <td>354.070</td>\n",
       "      <td>69143380</td>\n",
       "      <td>-0.001326</td>\n",
       "    </tr>\n",
       "  </tbody>\n",
       "</table>\n",
       "</div>"
      ],
      "text/plain": [
       "                              AGG                                      \\\n",
       "                             open    high       low    close   volume   \n",
       "time                                                                    \n",
       "2020-11-04 00:00:00-05:00  117.90  118.04  117.8300  117.925  4510329   \n",
       "2020-11-05 00:00:00-05:00  118.09  118.12  117.9100  118.060  4729082   \n",
       "2020-11-06 00:00:00-05:00  117.81  117.86  117.6699  117.800  5106146   \n",
       "2020-11-09 00:00:00-05:00  117.40  117.47  117.0600  117.240  6073474   \n",
       "2020-11-10 00:00:00-05:00  117.05  117.23  117.0300  117.050  4663301   \n",
       "\n",
       "                                           SPY                           \\\n",
       "                          daily_return    open    high     low    close   \n",
       "time                                                                      \n",
       "2020-11-04 00:00:00-05:00          NaN  340.86  347.94  339.59  343.495   \n",
       "2020-11-05 00:00:00-05:00     0.001145  349.25  352.19  348.86  350.210   \n",
       "2020-11-06 00:00:00-05:00    -0.002202  349.93  351.51  347.65  350.190   \n",
       "2020-11-09 00:00:00-05:00    -0.004754  363.97  364.38  354.06  354.540   \n",
       "2020-11-10 00:00:00-05:00    -0.001621  353.49  355.18  350.51  354.070   \n",
       "\n",
       "                                                   \n",
       "                              volume daily_return  \n",
       "time                                               \n",
       "2020-11-04 00:00:00-05:00  101560371          NaN  \n",
       "2020-11-05 00:00:00-05:00   67420157     0.019549  \n",
       "2020-11-06 00:00:00-05:00   58137413    -0.000057  \n",
       "2020-11-09 00:00:00-05:00  140613847     0.012422  \n",
       "2020-11-10 00:00:00-05:00   69143380    -0.001326  "
      ]
     },
     "execution_count": 37,
     "metadata": {},
     "output_type": "execute_result"
    }
   ],
   "source": [
    "# Configure a Monte Carlo simulation to forecast 10 years cumulative returns\n",
    "# The weights should be split 20% to AGG and 80% to SPY.\n",
    "# Run 500 samples.\n",
    "mc_ten_year_simulation = MCSimulation(\n",
    "    portfolio_data=monte_carlo_df,\n",
    "    weights=[0.20, 0.80],\n",
    "    num_simulation=500,\n",
    "    num_trading_days=252*10,\n",
    ")\n",
    "\n",
    "# Review the simulation input data\n",
    "mc_ten_year_simulation.portfolio_data.head()\n"
   ]
  },
  {
   "cell_type": "code",
   "execution_count": 38,
   "metadata": {},
   "outputs": [
    {
     "name": "stdout",
     "output_type": "stream",
     "text": [
      "Running Monte Carlo simulation number 0.\n",
      "Running Monte Carlo simulation number 10.\n",
      "Running Monte Carlo simulation number 20.\n",
      "Running Monte Carlo simulation number 30.\n",
      "Running Monte Carlo simulation number 40.\n",
      "Running Monte Carlo simulation number 50.\n",
      "Running Monte Carlo simulation number 60.\n",
      "Running Monte Carlo simulation number 70.\n",
      "Running Monte Carlo simulation number 80.\n",
      "Running Monte Carlo simulation number 90.\n",
      "Running Monte Carlo simulation number 100.\n",
      "Running Monte Carlo simulation number 110.\n",
      "Running Monte Carlo simulation number 120.\n",
      "Running Monte Carlo simulation number 130.\n",
      "Running Monte Carlo simulation number 140.\n",
      "Running Monte Carlo simulation number 150.\n",
      "Running Monte Carlo simulation number 160.\n",
      "Running Monte Carlo simulation number 170.\n",
      "Running Monte Carlo simulation number 180.\n",
      "Running Monte Carlo simulation number 190.\n",
      "Running Monte Carlo simulation number 200.\n",
      "Running Monte Carlo simulation number 210.\n",
      "Running Monte Carlo simulation number 220.\n",
      "Running Monte Carlo simulation number 230.\n",
      "Running Monte Carlo simulation number 240.\n",
      "Running Monte Carlo simulation number 250.\n",
      "Running Monte Carlo simulation number 260.\n",
      "Running Monte Carlo simulation number 270.\n",
      "Running Monte Carlo simulation number 280.\n",
      "Running Monte Carlo simulation number 290.\n",
      "Running Monte Carlo simulation number 300.\n",
      "Running Monte Carlo simulation number 310.\n",
      "Running Monte Carlo simulation number 320.\n",
      "Running Monte Carlo simulation number 330.\n",
      "Running Monte Carlo simulation number 340.\n",
      "Running Monte Carlo simulation number 350.\n",
      "Running Monte Carlo simulation number 360.\n",
      "Running Monte Carlo simulation number 370.\n",
      "Running Monte Carlo simulation number 380.\n",
      "Running Monte Carlo simulation number 390.\n",
      "Running Monte Carlo simulation number 400.\n",
      "Running Monte Carlo simulation number 410.\n",
      "Running Monte Carlo simulation number 420.\n",
      "Running Monte Carlo simulation number 430.\n",
      "Running Monte Carlo simulation number 440.\n",
      "Running Monte Carlo simulation number 450.\n",
      "Running Monte Carlo simulation number 460.\n",
      "Running Monte Carlo simulation number 470.\n",
      "Running Monte Carlo simulation number 480.\n",
      "Running Monte Carlo simulation number 490.\n"
     ]
    },
    {
     "data": {
      "text/html": [
       "<div>\n",
       "<style scoped>\n",
       "    .dataframe tbody tr th:only-of-type {\n",
       "        vertical-align: middle;\n",
       "    }\n",
       "\n",
       "    .dataframe tbody tr th {\n",
       "        vertical-align: top;\n",
       "    }\n",
       "\n",
       "    .dataframe thead th {\n",
       "        text-align: right;\n",
       "    }\n",
       "</style>\n",
       "<table border=\"1\" class=\"dataframe\">\n",
       "  <thead>\n",
       "    <tr style=\"text-align: right;\">\n",
       "      <th></th>\n",
       "      <th>0</th>\n",
       "      <th>1</th>\n",
       "      <th>2</th>\n",
       "      <th>3</th>\n",
       "      <th>4</th>\n",
       "      <th>5</th>\n",
       "      <th>6</th>\n",
       "      <th>7</th>\n",
       "      <th>8</th>\n",
       "      <th>9</th>\n",
       "      <th>...</th>\n",
       "      <th>490</th>\n",
       "      <th>491</th>\n",
       "      <th>492</th>\n",
       "      <th>493</th>\n",
       "      <th>494</th>\n",
       "      <th>495</th>\n",
       "      <th>496</th>\n",
       "      <th>497</th>\n",
       "      <th>498</th>\n",
       "      <th>499</th>\n",
       "    </tr>\n",
       "  </thead>\n",
       "  <tbody>\n",
       "    <tr>\n",
       "      <th>0</th>\n",
       "      <td>1.000000</td>\n",
       "      <td>1.000000</td>\n",
       "      <td>1.000000</td>\n",
       "      <td>1.000000</td>\n",
       "      <td>1.000000</td>\n",
       "      <td>1.000000</td>\n",
       "      <td>1.000000</td>\n",
       "      <td>1.000000</td>\n",
       "      <td>1.000000</td>\n",
       "      <td>1.000000</td>\n",
       "      <td>...</td>\n",
       "      <td>1.000000</td>\n",
       "      <td>1.000000</td>\n",
       "      <td>1.000000</td>\n",
       "      <td>1.000000</td>\n",
       "      <td>1.000000</td>\n",
       "      <td>1.000000</td>\n",
       "      <td>1.000000</td>\n",
       "      <td>1.000000</td>\n",
       "      <td>1.000000</td>\n",
       "      <td>1.000000</td>\n",
       "    </tr>\n",
       "    <tr>\n",
       "      <th>1</th>\n",
       "      <td>0.994156</td>\n",
       "      <td>1.003954</td>\n",
       "      <td>0.997181</td>\n",
       "      <td>0.992076</td>\n",
       "      <td>0.990407</td>\n",
       "      <td>1.008219</td>\n",
       "      <td>0.999360</td>\n",
       "      <td>1.001084</td>\n",
       "      <td>1.010852</td>\n",
       "      <td>0.999674</td>\n",
       "      <td>...</td>\n",
       "      <td>1.001551</td>\n",
       "      <td>1.008377</td>\n",
       "      <td>0.995134</td>\n",
       "      <td>0.991868</td>\n",
       "      <td>0.998124</td>\n",
       "      <td>0.991790</td>\n",
       "      <td>1.011612</td>\n",
       "      <td>1.000833</td>\n",
       "      <td>0.989461</td>\n",
       "      <td>0.998681</td>\n",
       "    </tr>\n",
       "    <tr>\n",
       "      <th>2</th>\n",
       "      <td>0.994689</td>\n",
       "      <td>0.998856</td>\n",
       "      <td>0.996981</td>\n",
       "      <td>1.004978</td>\n",
       "      <td>0.995714</td>\n",
       "      <td>1.003868</td>\n",
       "      <td>0.986757</td>\n",
       "      <td>1.005582</td>\n",
       "      <td>1.006625</td>\n",
       "      <td>1.019809</td>\n",
       "      <td>...</td>\n",
       "      <td>0.986840</td>\n",
       "      <td>1.022304</td>\n",
       "      <td>0.992599</td>\n",
       "      <td>0.990400</td>\n",
       "      <td>0.987406</td>\n",
       "      <td>0.992971</td>\n",
       "      <td>1.020974</td>\n",
       "      <td>0.987002</td>\n",
       "      <td>0.992712</td>\n",
       "      <td>0.990223</td>\n",
       "    </tr>\n",
       "    <tr>\n",
       "      <th>3</th>\n",
       "      <td>0.996568</td>\n",
       "      <td>0.995967</td>\n",
       "      <td>1.001975</td>\n",
       "      <td>1.011743</td>\n",
       "      <td>0.992701</td>\n",
       "      <td>1.019687</td>\n",
       "      <td>0.980177</td>\n",
       "      <td>1.005980</td>\n",
       "      <td>0.998184</td>\n",
       "      <td>1.026307</td>\n",
       "      <td>...</td>\n",
       "      <td>0.990875</td>\n",
       "      <td>1.011708</td>\n",
       "      <td>0.993930</td>\n",
       "      <td>0.980480</td>\n",
       "      <td>0.980129</td>\n",
       "      <td>0.994840</td>\n",
       "      <td>1.024036</td>\n",
       "      <td>0.985073</td>\n",
       "      <td>1.003783</td>\n",
       "      <td>0.992650</td>\n",
       "    </tr>\n",
       "    <tr>\n",
       "      <th>4</th>\n",
       "      <td>0.990982</td>\n",
       "      <td>0.999483</td>\n",
       "      <td>0.998708</td>\n",
       "      <td>1.004734</td>\n",
       "      <td>0.993670</td>\n",
       "      <td>1.020303</td>\n",
       "      <td>0.992993</td>\n",
       "      <td>1.015784</td>\n",
       "      <td>0.990883</td>\n",
       "      <td>1.028032</td>\n",
       "      <td>...</td>\n",
       "      <td>0.987242</td>\n",
       "      <td>1.024119</td>\n",
       "      <td>0.992411</td>\n",
       "      <td>0.977926</td>\n",
       "      <td>0.976702</td>\n",
       "      <td>0.994817</td>\n",
       "      <td>1.025617</td>\n",
       "      <td>0.991940</td>\n",
       "      <td>1.007171</td>\n",
       "      <td>0.995747</td>\n",
       "    </tr>\n",
       "    <tr>\n",
       "      <th>...</th>\n",
       "      <td>...</td>\n",
       "      <td>...</td>\n",
       "      <td>...</td>\n",
       "      <td>...</td>\n",
       "      <td>...</td>\n",
       "      <td>...</td>\n",
       "      <td>...</td>\n",
       "      <td>...</td>\n",
       "      <td>...</td>\n",
       "      <td>...</td>\n",
       "      <td>...</td>\n",
       "      <td>...</td>\n",
       "      <td>...</td>\n",
       "      <td>...</td>\n",
       "      <td>...</td>\n",
       "      <td>...</td>\n",
       "      <td>...</td>\n",
       "      <td>...</td>\n",
       "      <td>...</td>\n",
       "      <td>...</td>\n",
       "      <td>...</td>\n",
       "    </tr>\n",
       "    <tr>\n",
       "      <th>2516</th>\n",
       "      <td>6.830115</td>\n",
       "      <td>19.441159</td>\n",
       "      <td>23.140027</td>\n",
       "      <td>17.148751</td>\n",
       "      <td>12.866935</td>\n",
       "      <td>23.385231</td>\n",
       "      <td>9.432690</td>\n",
       "      <td>14.920533</td>\n",
       "      <td>8.573381</td>\n",
       "      <td>9.693694</td>\n",
       "      <td>...</td>\n",
       "      <td>6.869691</td>\n",
       "      <td>10.920175</td>\n",
       "      <td>16.739804</td>\n",
       "      <td>11.699800</td>\n",
       "      <td>17.525465</td>\n",
       "      <td>25.004475</td>\n",
       "      <td>19.987460</td>\n",
       "      <td>10.633657</td>\n",
       "      <td>29.162629</td>\n",
       "      <td>13.265693</td>\n",
       "    </tr>\n",
       "    <tr>\n",
       "      <th>2517</th>\n",
       "      <td>6.836183</td>\n",
       "      <td>19.511719</td>\n",
       "      <td>23.081162</td>\n",
       "      <td>17.350249</td>\n",
       "      <td>12.878735</td>\n",
       "      <td>23.479969</td>\n",
       "      <td>9.391742</td>\n",
       "      <td>14.976214</td>\n",
       "      <td>8.637257</td>\n",
       "      <td>9.853928</td>\n",
       "      <td>...</td>\n",
       "      <td>6.822226</td>\n",
       "      <td>10.923846</td>\n",
       "      <td>16.684171</td>\n",
       "      <td>11.553922</td>\n",
       "      <td>17.766285</td>\n",
       "      <td>24.976056</td>\n",
       "      <td>20.068048</td>\n",
       "      <td>10.653691</td>\n",
       "      <td>29.494345</td>\n",
       "      <td>13.287141</td>\n",
       "    </tr>\n",
       "    <tr>\n",
       "      <th>2518</th>\n",
       "      <td>6.869453</td>\n",
       "      <td>19.457014</td>\n",
       "      <td>23.213029</td>\n",
       "      <td>17.197118</td>\n",
       "      <td>12.864969</td>\n",
       "      <td>23.546628</td>\n",
       "      <td>9.316701</td>\n",
       "      <td>14.793662</td>\n",
       "      <td>8.664988</td>\n",
       "      <td>9.845272</td>\n",
       "      <td>...</td>\n",
       "      <td>6.762408</td>\n",
       "      <td>10.939495</td>\n",
       "      <td>16.707921</td>\n",
       "      <td>11.669981</td>\n",
       "      <td>17.987255</td>\n",
       "      <td>25.310162</td>\n",
       "      <td>20.293412</td>\n",
       "      <td>10.724970</td>\n",
       "      <td>29.095781</td>\n",
       "      <td>13.293452</td>\n",
       "    </tr>\n",
       "    <tr>\n",
       "      <th>2519</th>\n",
       "      <td>6.780247</td>\n",
       "      <td>19.542255</td>\n",
       "      <td>22.895794</td>\n",
       "      <td>17.268969</td>\n",
       "      <td>12.848904</td>\n",
       "      <td>23.715730</td>\n",
       "      <td>9.299113</td>\n",
       "      <td>14.674496</td>\n",
       "      <td>8.557620</td>\n",
       "      <td>10.028331</td>\n",
       "      <td>...</td>\n",
       "      <td>6.759332</td>\n",
       "      <td>10.986149</td>\n",
       "      <td>16.778035</td>\n",
       "      <td>11.677909</td>\n",
       "      <td>18.000127</td>\n",
       "      <td>25.692314</td>\n",
       "      <td>20.300327</td>\n",
       "      <td>10.554891</td>\n",
       "      <td>29.552226</td>\n",
       "      <td>13.356879</td>\n",
       "    </tr>\n",
       "    <tr>\n",
       "      <th>2520</th>\n",
       "      <td>6.765787</td>\n",
       "      <td>19.704995</td>\n",
       "      <td>22.937983</td>\n",
       "      <td>17.261876</td>\n",
       "      <td>12.913732</td>\n",
       "      <td>23.838642</td>\n",
       "      <td>9.307374</td>\n",
       "      <td>14.827729</td>\n",
       "      <td>8.638050</td>\n",
       "      <td>10.005696</td>\n",
       "      <td>...</td>\n",
       "      <td>6.874366</td>\n",
       "      <td>11.042587</td>\n",
       "      <td>16.771957</td>\n",
       "      <td>11.660222</td>\n",
       "      <td>17.927225</td>\n",
       "      <td>25.755663</td>\n",
       "      <td>20.390657</td>\n",
       "      <td>10.719600</td>\n",
       "      <td>29.372940</td>\n",
       "      <td>13.359775</td>\n",
       "    </tr>\n",
       "  </tbody>\n",
       "</table>\n",
       "<p>2521 rows × 500 columns</p>\n",
       "</div>"
      ],
      "text/plain": [
       "           0          1          2          3          4          5    \\\n",
       "0     1.000000   1.000000   1.000000   1.000000   1.000000   1.000000   \n",
       "1     0.994156   1.003954   0.997181   0.992076   0.990407   1.008219   \n",
       "2     0.994689   0.998856   0.996981   1.004978   0.995714   1.003868   \n",
       "3     0.996568   0.995967   1.001975   1.011743   0.992701   1.019687   \n",
       "4     0.990982   0.999483   0.998708   1.004734   0.993670   1.020303   \n",
       "...        ...        ...        ...        ...        ...        ...   \n",
       "2516  6.830115  19.441159  23.140027  17.148751  12.866935  23.385231   \n",
       "2517  6.836183  19.511719  23.081162  17.350249  12.878735  23.479969   \n",
       "2518  6.869453  19.457014  23.213029  17.197118  12.864969  23.546628   \n",
       "2519  6.780247  19.542255  22.895794  17.268969  12.848904  23.715730   \n",
       "2520  6.765787  19.704995  22.937983  17.261876  12.913732  23.838642   \n",
       "\n",
       "           6          7         8          9    ...       490        491  \\\n",
       "0     1.000000   1.000000  1.000000   1.000000  ...  1.000000   1.000000   \n",
       "1     0.999360   1.001084  1.010852   0.999674  ...  1.001551   1.008377   \n",
       "2     0.986757   1.005582  1.006625   1.019809  ...  0.986840   1.022304   \n",
       "3     0.980177   1.005980  0.998184   1.026307  ...  0.990875   1.011708   \n",
       "4     0.992993   1.015784  0.990883   1.028032  ...  0.987242   1.024119   \n",
       "...        ...        ...       ...        ...  ...       ...        ...   \n",
       "2516  9.432690  14.920533  8.573381   9.693694  ...  6.869691  10.920175   \n",
       "2517  9.391742  14.976214  8.637257   9.853928  ...  6.822226  10.923846   \n",
       "2518  9.316701  14.793662  8.664988   9.845272  ...  6.762408  10.939495   \n",
       "2519  9.299113  14.674496  8.557620  10.028331  ...  6.759332  10.986149   \n",
       "2520  9.307374  14.827729  8.638050  10.005696  ...  6.874366  11.042587   \n",
       "\n",
       "            492        493        494        495        496        497  \\\n",
       "0      1.000000   1.000000   1.000000   1.000000   1.000000   1.000000   \n",
       "1      0.995134   0.991868   0.998124   0.991790   1.011612   1.000833   \n",
       "2      0.992599   0.990400   0.987406   0.992971   1.020974   0.987002   \n",
       "3      0.993930   0.980480   0.980129   0.994840   1.024036   0.985073   \n",
       "4      0.992411   0.977926   0.976702   0.994817   1.025617   0.991940   \n",
       "...         ...        ...        ...        ...        ...        ...   \n",
       "2516  16.739804  11.699800  17.525465  25.004475  19.987460  10.633657   \n",
       "2517  16.684171  11.553922  17.766285  24.976056  20.068048  10.653691   \n",
       "2518  16.707921  11.669981  17.987255  25.310162  20.293412  10.724970   \n",
       "2519  16.778035  11.677909  18.000127  25.692314  20.300327  10.554891   \n",
       "2520  16.771957  11.660222  17.927225  25.755663  20.390657  10.719600   \n",
       "\n",
       "            498        499  \n",
       "0      1.000000   1.000000  \n",
       "1      0.989461   0.998681  \n",
       "2      0.992712   0.990223  \n",
       "3      1.003783   0.992650  \n",
       "4      1.007171   0.995747  \n",
       "...         ...        ...  \n",
       "2516  29.162629  13.265693  \n",
       "2517  29.494345  13.287141  \n",
       "2518  29.095781  13.293452  \n",
       "2519  29.552226  13.356879  \n",
       "2520  29.372940  13.359775  \n",
       "\n",
       "[2521 rows x 500 columns]"
      ]
     },
     "execution_count": 38,
     "metadata": {},
     "output_type": "execute_result"
    }
   ],
   "source": [
    "# Run the Monte Carlo simulation to forecast 10 years cumulative returns\n",
    "mc_ten_year_simulation.calc_cumulative_return()\n"
   ]
  },
  {
   "cell_type": "code",
   "execution_count": 39,
   "metadata": {},
   "outputs": [
    {
     "data": {
      "text/plain": [
       "<AxesSubplot:title={'center':'500 Simulations of Cumulative Portfolio Return Trajectories Over the Next 2520 Trading Days.'}>"
      ]
     },
     "execution_count": 39,
     "metadata": {},
     "output_type": "execute_result"
    },
    {
     "data": {
      "image/png": "[encoded data removed]",
      "text/plain": [
       "<Figure size 432x288 with 1 Axes>"
      ]
     },
     "metadata": {
      "needs_background": "light"
     },
     "output_type": "display_data"
    }
   ],
   "source": [
    "# Visualize the 10-year Monte Carlo simulation by creating an\n",
    "# overlay line plot\n",
    "mc_ten_year_simulation.plot_simulation()\n"
   ]
  },
  {
   "cell_type": "code",
   "execution_count": 40,
   "metadata": {},
   "outputs": [
    {
     "data": {
      "text/plain": [
       "<AxesSubplot:title={'center':'Distribution of Final Cumuluative Returns Across All 500 Simulations'}, ylabel='Frequency'>"
      ]
     },
     "execution_count": 40,
     "metadata": {},
     "output_type": "execute_result"
    },
    {
     "data": {
      "image/png": "[encoded data removed]",
      "text/plain": [
       "<Figure size 432x288 with 1 Axes>"
      ]
     },
     "metadata": {
      "needs_background": "light"
     },
     "output_type": "display_data"
    }
   ],
   "source": [
    "# Visualize the probability distribution of the 10-year Monte Carlo simulation \n",
    "# by plotting a histogram\n",
    "mc_ten_year_simulation.plot_distribution()\n"
   ]
  },
  {
   "cell_type": "code",
   "execution_count": 41,
   "metadata": {},
   "outputs": [
    {
     "name": "stdout",
     "output_type": "stream",
     "text": [
      "count           500.000000\n",
      "mean             14.967063\n",
      "std               5.388309\n",
      "min               4.866579\n",
      "25%              11.150933\n",
      "50%              14.112594\n",
      "75%              17.929109\n",
      "max              42.178132\n",
      "95% CI Lower      6.932947\n",
      "95% CI Upper     28.149650\n",
      "Name: 2520, dtype: float64\n"
     ]
    }
   ],
   "source": [
    "# Generate summary statistics from the 10-year Monte Carlo simulation results\n",
    "# Save the results as a variable\n",
    "MC_ten_summary_statistics = mc_ten_year_simulation.summarize_cumulative_return()\n",
    "\n",
    "\n",
    "# Review the 10-year Monte Carlo summary statistics\n",
    "print(MC_ten_summary_statistics)\n"
   ]
  },
  {
   "cell_type": "markdown",
   "metadata": {},
   "source": [
    "### Answer the following questions:"
   ]
  },
  {
   "cell_type": "markdown",
   "metadata": {},
   "source": [
    "#### Question: Using the current value of only the stock and bond portion of the member's portfolio and the summary statistics that you generated from the new Monte Carlo simulation, what are the lower and upper bounds for the expected value of the portfolio (with the new weights) with a 95% confidence interval?"
   ]
  },
  {
   "cell_type": "code",
   "execution_count": 42,
   "metadata": {},
   "outputs": [
    {
     "name": "stdout",
     "output_type": "stream",
     "text": [
      "The current balance of the stock and bond portion of the member's portfolio is $ 68803.00\n"
     ]
    }
   ],
   "source": [
    "# Print the current balance of the stock and bond portion of the members portfolio\n",
    "print(f\"The current balance of the stock and bond portion of the member's portfolio is ${total_stocks_bonds: .2f}\")\n"
   ]
  },
  {
   "cell_type": "code",
   "execution_count": 43,
   "metadata": {},
   "outputs": [
    {
     "name": "stdout",
     "output_type": "stream",
     "text": [
      "With 95% confidence, we can state that the member's stock & bond portfolio over the next 10 years will end up in the range between: $ 477007.53 and $ 1936780.37.\n"
     ]
    }
   ],
   "source": [
    "# Use the lower and upper `95%` confidence intervals to calculate the range of the possible outcomes for the current stock/bond portfolio\n",
    "ci_lower_ten_cumulative_return = MC_ten_summary_statistics[8] * total_stocks_bonds\n",
    "ci_upper_ten_cumulative_return = MC_ten_summary_statistics[9] * total_stocks_bonds\n",
    "\n",
    "# Print the result of your calculations\n",
    "print(f\"With 95% confidence, we can state that the member's stock & bond portfolio\"\n",
    "    f\" over the next 10 years will end up in the range between:\"\n",
    "    f\" ${ci_lower_ten_cumulative_return: .2f} and ${ci_upper_ten_cumulative_return: .2f}.\")\n"
   ]
  },
  {
   "cell_type": "markdown",
   "metadata": {},
   "source": [
    "#### Question: Will weighting the portfolio more heavily to stocks allow the credit union members to retire after only 10 years?"
   ]
  },
  {
   "cell_type": "raw",
   "metadata": {},
   "source": [
    "**Answer** Potentionally, if the member should deem that they can retire with the lower 95% confidence interval value. Otherwise, it might be better to use a 60/40 bond/stock ratio over a longer time span such as thirty years."
   ]
  },
  {
   "cell_type": "code",
   "execution_count": null,
   "metadata": {},
   "outputs": [],
   "source": []
  }
 ],
 "metadata": {
  "kernelspec": {
   "display_name": "dev",
   "language": "python",
   "name": "dev"
  },
  "language_info": {
   "codemirror_mode": {
    "name": "ipython",
    "version": 3
   },
   "file_extension": ".py",
   "mimetype": "text/x-python",
   "name": "python",
   "nbconvert_exporter": "python",
   "pygments_lexer": "ipython3",
   "version": "3.7.9"
  }
 },
 "nbformat": 4,
 "nbformat_minor": 4
}
